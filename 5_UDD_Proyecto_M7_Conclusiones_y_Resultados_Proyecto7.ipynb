{
  "nbformat": 4,
  "nbformat_minor": 0,
  "metadata": {
    "colab": {
      "provenance": [],
      "authorship_tag": "ABX9TyPagytEThydYpggYB924YLY",
      "include_colab_link": true
    },
    "kernelspec": {
      "name": "python3",
      "display_name": "Python 3"
    },
    "language_info": {
      "name": "python"
    }
  },
  "cells": [
    {
      "cell_type": "markdown",
      "metadata": {
        "id": "view-in-github",
        "colab_type": "text"
      },
      "source": [
        "<a href=\"https://colab.research.google.com/github/BOrtizL/Proyecto-7-DataScience/blob/main/5_UDD_Proyecto_M7_Conclusiones_y_Resultados_Proyecto7.ipynb\" target=\"_parent\"><img src=\"https://colab.research.google.com/assets/colab-badge.svg\" alt=\"Open In Colab\"/></a>"
      ]
    },
    {
      "cell_type": "markdown",
      "source": [
        "# **Conclusiones y Resultados**"
      ],
      "metadata": {
        "id": "PvTd_b_mb2_p"
      }
    },
    {
      "cell_type": "markdown",
      "source": [
        "Después de analizar el conjunto de datos y realizar diversas investigaciones, podemos concluir lo siguiente:\n",
        "\n",
        "**Relación entre características demográficas y premios:**\n",
        "\n",
        "Se observa una diversidad de premios otorgados a diferentes personas en función de sus características demográficas como lugar de nacimiento, raza, religión y orientación sexual.\n",
        "No se puede concluir directamente una relación causal entre estas características y el tipo de premio, pero existen patrones interesantes que vale la pena explorar más a fondo.\n",
        "\n",
        "\n",
        "**Patrones identificados:**\n",
        "\n",
        "Se encontraron ciertos patrones, como ciertas razas o religiones que podrían tener una tendencia a recibir ciertos tipos de premios en comparación con otros.\n",
        "La orientación sexual también podría influir en el tipo de premio recibido, aunque se necesitaría un análisis más profundo para confirmar esta relación.\n",
        "\n",
        "\n",
        "**Limitaciones:**\n",
        "\n",
        "- El conjunto de datos presentaba sesgo en ciertas áreas demográficas.\n",
        "- El dataset calificaba la calidad de la información con un número de juicios\n",
        "  confiables, y el 94% de esta data estaba calificada con un bajo grado de conbiabilidad.\n",
        "- Se identifica que hay información incorrecta en la columna *date_of_birth* y\n",
        "  se optó por eliminarla, pero hubiera sido una data que hubiera entregado una valiosa información de tendencia.\n",
        "- La falta de cierta información podría afectar la calidad de los resultados y\n",
        "  conclusiones.\n",
        "- No se puede establecer causalidad debido a la naturaleza observacional de     \n",
        "  los  datos.\n",
        "\n",
        "\n",
        " **Estrategia**\n",
        "\n",
        "- Debido a la gran variabilidad de datos que contenían las columnas *movie*, *person* y *birthplace* se optó por aplicar técnica de mapeo para agrupar las películas según su clasificación cinematográfica (Drama, Aventura, Crimen ..etc), agrupar person según su género (hombre, mujer) y birthplace segun su región geográfica (Europa, Asia, América del Norte ... etc) y de esta manera simplificar las variables de la data.\n",
        "\n",
        "- Se identifica que hay 416 datos con puntuación 3 en su nivel de confiabilidad.En lugar de eliminar estos datos, se considera tratarlos de manera diferente en el análisis:\n",
        "\n",
        "1. Etiquetado y Filtrado:\n",
        "Se etiquetan los datos con _trusted_judgments igual a 3 como \"baja confianza\" y analiza cómo se comportan en comparación con los datos altamente confiables (_trusted_judgments > 3).\n",
        "\n",
        "2. Análisis Separado:\n",
        "Se realizará un análisis separados para diferentes niveles de confianza. Esto permitirá entender cómo varían los resultados en función de la confianza en los datos.\n",
        "\n",
        "\n",
        "\n",
        "\n",
        "\n",
        "\n"
      ],
      "metadata": {
        "id": "nyebLYHSb7__"
      }
    },
    {
      "cell_type": "markdown",
      "source": [
        "**Resultado**:\n",
        "\n",
        "Después de dividir la data, transformar las columnas categóricas en variables numéricas usando la técnica de Embedding, separar la data en test y train, estandarizar la data y aplicar PCA, se optó por probar con dos modelos:\n",
        "\n",
        "1. Regresión Logística: modelo estadístico utilizado para predecir la probabilidad de un evento binario (es decir, un resultado que tiene dos posibles valores, como 0 y 1, verdadero y falso, sí y no) en función de uno o más variables predictoras (también conocidas como variables independientes o features).\n",
        "\n",
        "En el dataset con información altamente confiable (que contiene 9 columnas con 25 datos), el modelo mostró una precisión del 100%\n",
        "\n",
        "En el dataset con infomación de baja confiabilidad (que contiene 8 columnas con 414 datos), el modelo mostró una precisón del 95%\n",
        "\n",
        "2. RandomForest: algoritmo de aprendizaje supervisado utilizado tanto para clasificación como para regresión. Es un tipo de ensamblado de métodos basado en la construcción de múltiples árboles de decisión durante el entrenamiento y la salida de la clase que es el modo (clasificación) o la media (regresión) de las predicciones individuales de los árboles.\n",
        "\n",
        "En el dataset con información altamente confiable (que contiene 9 columnas con 25 datos), el modelo mostró una precisión del 80%\n",
        "\n",
        "En el dataset con infomación de baja confiabilidad (que contiene 8 columnas con 414 datos), el modelo mostró una precisón del 93%\n"
      ],
      "metadata": {
        "id": "GU67GQC3f9Ay"
      }
    },
    {
      "cell_type": "markdown",
      "source": [
        "**Conclusiones:**\n",
        "- El mapa de calor mostró una fuerte relación entre las columnas *gender* y *award*, por lo cual, la variable objetivo fue predecir quién sería el ganador de un premio oscar.\n",
        "- Debido al performance del modelo de Regresión Logística, se sugiere avanzar con esas predicciones, pero de todas maneras, RandomForest funcionó correctamente y es más confiable cuando hay data desbalanceada.\n",
        "- El dataset de baja confiabilidad tiene más variables en las características demográficas, por lo cual, es importante validar y/o corregir la data para que haya mayor robustez en los datos."
      ],
      "metadata": {
        "id": "OtVogmYykaGh"
      }
    },
    {
      "cell_type": "markdown",
      "source": [
        "En resumen, este proyecto proporciona una visión inicial sobre la relación entre las características demográficas y el tipo de premio recibido, pero se necesitarían más investigaciones y datos adicionales para obtener conclusiones más sólidas y significativas.\n",
        "\n",
        "\n"
      ],
      "metadata": {
        "id": "MMZ4mthafyfo"
      }
    },
    {
      "cell_type": "code",
      "execution_count": null,
      "metadata": {
        "id": "iWR-kEOCbc9X"
      },
      "outputs": [],
      "source": []
    }
  ]
}