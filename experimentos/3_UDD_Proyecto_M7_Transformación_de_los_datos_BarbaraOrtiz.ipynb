{
  "nbformat": 4,
  "nbformat_minor": 0,
  "metadata": {
    "colab": {
      "provenance": []
    },
    "kernelspec": {
      "name": "python3",
      "display_name": "Python 3"
    },
    "language_info": {
      "name": "python"
    }
  },
  "cells": [
    {
      "cell_type": "markdown",
      "source": [
        "Ahora que la división y limpieza de los datos está realizado, empezaremos con la transformación."
      ],
      "metadata": {
        "id": "stfPLH6UiQhc"
      }
    },
    {
      "cell_type": "code",
      "source": [
        "from google.colab import drive\n",
        "drive.mount('/content/drive')\n"
      ],
      "metadata": {
        "colab": {
          "base_uri": "https://localhost:8080/"
        },
        "id": "kUsqA9xjmE8u",
        "outputId": "ac43df34-7867-4a0b-ba56-fdcb25770637"
      },
      "execution_count": null,
      "outputs": [
        {
          "output_type": "stream",
          "name": "stdout",
          "text": [
            "Mounted at /content/drive\n"
          ]
        }
      ]
    },
    {
      "cell_type": "code",
      "source": [
        "# Importamos librerias\n",
        "import pickle\n",
        "import seaborn as sns\n",
        "import numpy as np\n",
        "import matplotlib.pyplot as plt\n",
        "from tabulate import tabulate\n",
        "import pandas as pd\n",
        "import seaborn as sns\n",
        "import statsmodels.api as sm\n",
        "from sklearn.cluster import DBSCAN\n",
        "from statsmodels.stats.outliers_influence import variance_inflation_factor\n"
      ],
      "metadata": {
        "id": "EdaeaYV-mSE6"
      },
      "execution_count": null,
      "outputs": []
    },
    {
      "cell_type": "markdown",
      "source": [
        "# **Transformación de los datos**"
      ],
      "metadata": {
        "id": "X0bwlcGqieFp"
      }
    },
    {
      "cell_type": "code",
      "execution_count": null,
      "metadata": {
        "id": "Qj0VYiTwgmbU"
      },
      "outputs": [],
      "source": [
        "# Ruta del archivo en Google Drive\n",
        "ruta_archivo_drive = '/content/drive/My Drive/Proyecto 7/data/df.pkl'\n",
        "\n",
        "# Cargar el DataFrame desde el archivo\n",
        "with open(ruta_archivo_drive, 'rb') as f:\n",
        "    df = pickle.load(f)"
      ]
    },
    {
      "cell_type": "code",
      "source": [
        "df.info()"
      ],
      "metadata": {
        "colab": {
          "base_uri": "https://localhost:8080/"
        },
        "id": "-ftZQXXzNudC",
        "outputId": "496b1a45-7c1f-48b6-f35e-6de498a1d9ec"
      },
      "execution_count": null,
      "outputs": [
        {
          "output_type": "stream",
          "name": "stdout",
          "text": [
            "<class 'pandas.core.frame.DataFrame'>\n",
            "Index: 439 entries, 0 to 440\n",
            "Data columns (total 16 columns):\n",
            " #   Column              Non-Null Count  Dtype \n",
            "---  ------              --------------  ----- \n",
            " 0   _golden             439 non-null    bool  \n",
            " 1   _unit_state         439 non-null    object\n",
            " 2   _trusted_judgments  439 non-null    int64 \n",
            " 3   birthplace          439 non-null    object\n",
            " 4   date_of_birth       439 non-null    object\n",
            " 5   race_ethnicity      439 non-null    object\n",
            " 6   religion            439 non-null    object\n",
            " 7   sexual_orientation  439 non-null    object\n",
            " 8   year_of_award       439 non-null    int64 \n",
            " 9   award               439 non-null    object\n",
            " 10  biourl              439 non-null    object\n",
            " 11  movie               439 non-null    object\n",
            " 12  person              439 non-null    object\n",
            " 13  genre               439 non-null    object\n",
            " 14  gender              439 non-null    object\n",
            " 15  region              439 non-null    object\n",
            "dtypes: bool(1), int64(2), object(13)\n",
            "memory usage: 55.3+ KB\n"
          ]
        }
      ]
    },
    {
      "cell_type": "code",
      "source": [
        "# Agrupar las columnas por Categórica y Numérica\n",
        "Columna_categorica = df.select_dtypes(include =[\"object\", \"bool\"]).columns\n",
        "Columna_numerica = df.select_dtypes(include =[\"float64\", \"int64\"]).columns\n",
        "print(\"El total de columnas categoricas son \", len(Columna_categorica))\n",
        "print(\"El total de columnas numéricas son \", len(Columna_numerica))"
      ],
      "metadata": {
        "colab": {
          "base_uri": "https://localhost:8080/"
        },
        "id": "CYpZwYaDnE8R",
        "outputId": "86352245-bf91-4c47-ecf6-6f11b31c1815"
      },
      "execution_count": null,
      "outputs": [
        {
          "output_type": "stream",
          "name": "stdout",
          "text": [
            "El total de columnas categoricas son  14\n",
            "El total de columnas numéricas son  2\n"
          ]
        }
      ]
    },
    {
      "cell_type": "code",
      "source": [
        "# Definir la lista de columnas categóricas\n",
        "cols_cat2 = [\"_golden\", \"_unit_state\", \"_last_judgment_at\", 'birthplace', 'date_of_birth', 'race_ethnicity', 'religion',\n",
        "            'sexual_orientation', 'award', 'biourl', 'movie', 'person', \"genre\", \"gender\", \"region\"]\n",
        "\n",
        "# Iterar sobre las columnas categóricas y verificar si existen en el DataFrame\n",
        "for col in cols_cat2:\n",
        "    if col in df.columns:\n",
        "        print(f'Columna {col}: {df[col].nunique()} subniveles')"
      ],
      "metadata": {
        "colab": {
          "base_uri": "https://localhost:8080/"
        },
        "id": "BJ1ewcZCNyK8",
        "outputId": "10eece92-da7b-41d9-ad36-2d4e2929f6f6"
      },
      "execution_count": null,
      "outputs": [
        {
          "output_type": "stream",
          "name": "stdout",
          "text": [
            "Columna _golden: 2 subniveles\n",
            "Columna _unit_state: 2 subniveles\n",
            "Columna birthplace: 232 subniveles\n",
            "Columna date_of_birth: 345 subniveles\n",
            "Columna race_ethnicity: 6 subniveles\n",
            "Columna religion: 21 subniveles\n",
            "Columna sexual_orientation: 5 subniveles\n",
            "Columna award: 5 subniveles\n",
            "Columna biourl: 347 subniveles\n",
            "Columna movie: 334 subniveles\n",
            "Columna person: 347 subniveles\n",
            "Columna genre: 12 subniveles\n",
            "Columna gender: 2 subniveles\n",
            "Columna region: 6 subniveles\n"
          ]
        }
      ]
    },
    {
      "cell_type": "markdown",
      "source": [
        "**Observación:**\n",
        "Todos los datos categóricos presentan más de una variable. Esto significa que habrá que aplicar alguna técnica se simplificación de variables para poder avanzar con el entrenamiento del modelo predictivo."
      ],
      "metadata": {
        "id": "310jSbTEPXOz"
      }
    },
    {
      "cell_type": "code",
      "source": [
        "# Generar gráfica de los valores numéricos para identificar outlier\n",
        "plt.figure(figsize=(18, 10))  # Tamaño de la figura más grande\n",
        "sns.boxplot(data=df.select_dtypes(include=\"int64\"))  # Asegurar que solo se incluyan columnas numéricas\n",
        "plt.xticks(rotation=45, fontsize=12)  # Rotar y aumentar el tamaño de las etiquetas del eje x\n",
        "plt.yticks(fontsize=12)  # Aumentar el tamaño de las etiquetas del eje y\n",
        "plt.title('Boxplots de las columnas numéricas', fontsize=16)  # Título más grande y claro\n",
        "plt.xlabel('Columnas', fontsize=14)  # Etiqueta del eje x\n",
        "plt.ylabel('Valores', fontsize=14)  # Etiqueta del eje y\n",
        "plt.grid(True)  # Agregar cuadrículas\n",
        "plt.show()\n"
      ],
      "metadata": {
        "colab": {
          "base_uri": "https://localhost:8080/",
          "height": 776
        },
        "id": "dJRwi2ENn8h5",
        "outputId": "af699f7f-afa3-4dee-94e8-c51d3073d85e"
      },
      "execution_count": null,
      "outputs": [
        {
          "output_type": "display_data",
          "data": {
            "text/plain": [
              "<Figure size 1800x1000 with 1 Axes>"
            ],
            "image/png": "[encoded data removed]"
          },
          "metadata": {}
        }
      ]
    },
    {
      "cell_type": "markdown",
      "source": [
        "**Observación:**\n",
        "La columna \"_trusted_judgments\" presenta datos atícos.\n",
        "Estos datos serán analizados para entender el contexto."
      ],
      "metadata": {
        "id": "8G9sI09wCYgj"
      }
    },
    {
      "cell_type": "markdown",
      "source": [
        "Entrenamiento del Modelo DBSCAN para la detección de outlier"
      ],
      "metadata": {
        "id": "aJM1xf2ZjfED"
      }
    },
    {
      "cell_type": "code",
      "source": [
        "# Extraer la columna relevante\n",
        "X = df[['_trusted_judgments']]\n",
        "\n",
        "# Definir el modelo DBSCAN\n",
        "# eps es el radio de la vecindad, min_samples es el número mínimo de puntos en una vecindad para ser considerados core points\n",
        "dbscan = DBSCAN(eps=0.5, min_samples=5)\n",
        "\n",
        "# Entrenar el modelo y predecir clusters\n",
        "clusters = dbscan.fit_predict(X)"
      ],
      "metadata": {
        "id": "D-byPTRzjd3v"
      },
      "execution_count": null,
      "outputs": []
    },
    {
      "cell_type": "code",
      "source": [
        "# Identificar outliers\n",
        "outliers = X[clusters == -1]\n",
        "\n",
        "print(\"Outliers identificados:\")\n",
        "print(outliers)"
      ],
      "metadata": {
        "colab": {
          "base_uri": "https://localhost:8080/"
        },
        "id": "Fl8uAWv7jpAd",
        "outputId": "14f75e3c-0e96-4175-f5be-102463333c3e"
      },
      "execution_count": null,
      "outputs": [
        {
          "output_type": "stream",
          "name": "stdout",
          "text": [
            "Outliers identificados:\n",
            "     _trusted_judgments\n",
            "21                   82\n",
            "33                   87\n",
            "52                   75\n",
            "82                   81\n",
            "111                  95\n",
            "152                  84\n",
            "179                  90\n",
            "205                  84\n",
            "235                  62\n",
            "263                  76\n",
            "280                  75\n",
            "289                  86\n",
            "293                  89\n",
            "328                  85\n",
            "347                  76\n",
            "377                  87\n",
            "401                  87\n",
            "407                  92\n",
            "411                  86\n",
            "430                  86\n"
          ]
        }
      ]
    },
    {
      "cell_type": "markdown",
      "source": [
        "Como se explicó en el *Resumen Ejecutivo*, la columna _trusted_judgments representa el número de juicios confiables otorgados a la unidad de datos por los anotadores. Y complementado con el análisis realizado en el notebook *Integración y Limpieza*, el 94% de la data es considerada como data no confiable (puntaje 3) y el resto de la información obtuvo una calificación mucho más alta y es considerada confiable. Esta puntuación es la que está siendo considerada como outlier.\n",
        "\n",
        "Dicho esto, se procede a **no eliminar datos outlier** por considerarse cruciales en nuestro análisis.\n"
      ],
      "metadata": {
        "id": "AwkNgPo0keZJ"
      }
    },
    {
      "cell_type": "code",
      "source": [
        "# Se genera un df con las columnas que son categóricas\n",
        "df_categorica = df[Columna_categorica]\n",
        "df_categorica.info()"
      ],
      "metadata": {
        "colab": {
          "base_uri": "https://localhost:8080/"
        },
        "id": "QnZDCJtVo7YS",
        "outputId": "7a8eb3c9-5f7c-47d1-f716-cbc942bfe156"
      },
      "execution_count": null,
      "outputs": [
        {
          "output_type": "stream",
          "name": "stdout",
          "text": [
            "<class 'pandas.core.frame.DataFrame'>\n",
            "Index: 439 entries, 0 to 440\n",
            "Data columns (total 14 columns):\n",
            " #   Column              Non-Null Count  Dtype \n",
            "---  ------              --------------  ----- \n",
            " 0   _golden             439 non-null    bool  \n",
            " 1   _unit_state         439 non-null    object\n",
            " 2   birthplace          439 non-null    object\n",
            " 3   date_of_birth       439 non-null    object\n",
            " 4   race_ethnicity      439 non-null    object\n",
            " 5   religion            439 non-null    object\n",
            " 6   sexual_orientation  439 non-null    object\n",
            " 7   award               439 non-null    object\n",
            " 8   biourl              439 non-null    object\n",
            " 9   movie               439 non-null    object\n",
            " 10  person              439 non-null    object\n",
            " 11  genre               439 non-null    object\n",
            " 12  gender              439 non-null    object\n",
            " 13  region              439 non-null    object\n",
            "dtypes: bool(1), object(13)\n",
            "memory usage: 48.4+ KB\n"
          ]
        }
      ]
    },
    {
      "cell_type": "markdown",
      "source": [
        "**Observación:**\n",
        "Se decide eliminar las columnas \"biourl\", \"movie\", \"birthplace\" y \"person\" ya que no son relevantes para el análisis que estamos realizando.\n",
        "Estas características no se utilizarán como variables predictoras en el modelo y no son de interés para el análisis."
      ],
      "metadata": {
        "id": "b82nVio0pBPl"
      }
    },
    {
      "cell_type": "code",
      "source": [
        "df_categorica = df_categorica.drop(columns=['biourl', 'movie', \"birthplace\", 'person'])"
      ],
      "metadata": {
        "id": "2ZXC5erTpFQ9"
      },
      "execution_count": null,
      "outputs": []
    },
    {
      "cell_type": "code",
      "source": [
        "# Se decide eliminar la columna \"date_of_birth\", ya que contiene información que parece tener errores.\n",
        "df_categorica = df_categorica.drop(columns=[\"date_of_birth\"])"
      ],
      "metadata": {
        "id": "ArE0wQvj9cSl"
      },
      "execution_count": null,
      "outputs": []
    },
    {
      "cell_type": "markdown",
      "source": [
        "**Transformación de los datos**\n",
        "\n",
        "Se convertirán las columnas categóricas en variables numéricas usando la técnica de Embedding. El embedding sirve para representar datos categóricos en un espacio de características continuas de menor dimensión."
      ],
      "metadata": {
        "id": "KWSWx-typVUc"
      }
    },
    {
      "cell_type": "code",
      "source": [
        "# Hacer una copia del DataFrame original\n",
        "df_copy = df.copy()\n",
        "\n",
        "# Seleccionar columnas que no sean 'object' ni 'bool'\n",
        "df_copy = df_copy.select_dtypes(exclude=['object', 'bool'])\n",
        "\n"
      ],
      "metadata": {
        "id": "P7i6b_ZZhWDc"
      },
      "execution_count": null,
      "outputs": []
    },
    {
      "cell_type": "code",
      "source": [
        "# Obtener una copia del DataFrame\n",
        "df_encoded = df_categorica.copy()\n",
        "\n",
        "# Definir el tamaño del embedding (aunque no se utiliza en este ejemplo)\n",
        "embedding_dim = 10\n",
        "\n",
        "# Crear embeddings para cada columna categórica\n",
        "category_embedding = {}\n",
        "\n",
        "for column in df_encoded.select_dtypes(include=['object', \"bool\"]).columns:\n",
        "    unique_categories = df_encoded[column].unique()\n",
        "    category_embedding[column] = dict(zip(unique_categories, range(1, len(unique_categories) + 1)))  # Asignar un número único a cada categoría\n",
        "    df_encoded[column] = df_encoded[column].map(category_embedding[column]).fillna(0)  # Llenar los valores NaN con 0\n",
        "\n",
        "# Mostrar el DataFrame transformado\n",
        "print(\"DataFrame transformado:\")\n",
        "print(df_encoded)\n",
        "\n",
        "# Imprimir el diccionario de mapeo\n",
        "print(\"\\nDiccionario de mapeo:\")\n",
        "print(category_embedding)"
      ],
      "metadata": {
        "colab": {
          "base_uri": "https://localhost:8080/"
        },
        "id": "PeicDJpIMyNq",
        "outputId": "9d0a6743-a0f0-4bdd-81bc-8bea71f3d723"
      },
      "execution_count": null,
      "outputs": [
        {
          "output_type": "stream",
          "name": "stdout",
          "text": [
            "DataFrame transformado:\n",
            "     _golden  _unit_state  race_ethnicity  religion  sexual_orientation  \\\n",
            "0          1            1               1         1                   1   \n",
            "1          1            1               1         2                   1   \n",
            "2          1            1               1         3                   1   \n",
            "3          1            1               1         4                   1   \n",
            "4          1            1               1         1                   1   \n",
            "..       ...          ...             ...       ...                 ...   \n",
            "436        1            1               1         2                   1   \n",
            "437        1            1               1         1                   1   \n",
            "438        1            1               1        13                   1   \n",
            "439        1            1               1        14                   1   \n",
            "440        1            1               1        15                   1   \n",
            "\n",
            "     award  genre  gender  region  \n",
            "0        1      1       1       1  \n",
            "1        1      2       1       1  \n",
            "2        1      3       1       1  \n",
            "3        1      1       1       2  \n",
            "4        1      2       1       2  \n",
            "..     ...    ...     ...     ...  \n",
            "436      5      2       2       1  \n",
            "437      1      2       1       1  \n",
            "438      3      2       1       2  \n",
            "439      3      2       1       2  \n",
            "440      1      6       1       2  \n",
            "\n",
            "[439 rows x 9 columns]\n",
            "\n",
            "Diccionario de mapeo:\n",
            "{'_golden': {False: 1, True: 2}, '_unit_state': {'finalized': 1, 'golden': 2}, 'race_ethnicity': {'White': 1, 'Asian': 2, 'Hispanic': 3, 'Black': 4, 'Multiracial': 5, 'Middle Eastern': 6}, 'religion': {'Roman Catholic': 1, 'Jewish': 2, 'Atheist': 3, 'Born-Again Christian': 4, 'Baptist': 5, 'Buddhist': 6, 'Protestant': 7, 'Christian Science': 8, 'Deist': 9, 'Lutheran': 10, 'Christian': 11, 'Quaker': 12, 'Anglican/episcopalian': 13, 'Presbyterian': 14, 'See Note': 15, 'Sufism': 16, 'Disciples of Christ': 17, 'Hindu': 18, 'Methodist': 19, 'Agnostic': 20, 'Congregationalist': 21}, 'sexual_orientation': {'Straight': 1, 'Bisexual': 2, 'Gay': 3, 'Matter of Dispute': 4, 'Lesbian': 5}, 'award': {'Best Director': 1, 'Best Actor': 2, 'Best Supporting Actor': 3, 'Best Actress': 4, 'Best Supporting Actress': 5}, 'genre': {'Comedia': 1, 'Drama': 2, 'Bélica': 3, 'Crimen': 4, 'Musical': 5, 'Aventura': 6, 'Biografía': 7, 'Thriller': 8, 'Western': 9, 'Romance': 10, 'Epica': 11, 'Suspenso': 12}, 'gender': {'Hombre': 1, 'Mujer': 2}, 'region': {'Europe': 1, 'North America': 2, 'Asia': 3, 'Central America': 4, 'Australia and Oceania': 5, 'Africa': 6}}\n"
          ]
        }
      ]
    },
    {
      "cell_type": "code",
      "source": [
        "# Mostrar tipos de datos del DataFrame\n",
        "print(df_encoded.dtypes)"
      ],
      "metadata": {
        "colab": {
          "base_uri": "https://localhost:8080/"
        },
        "id": "Bu_PSnPIdW4m",
        "outputId": "634523d9-44f4-47c8-8f2c-7757cc5bfd0c"
      },
      "execution_count": null,
      "outputs": [
        {
          "output_type": "stream",
          "name": "stdout",
          "text": [
            "_golden               int64\n",
            "_unit_state           int64\n",
            "race_ethnicity        int64\n",
            "religion              int64\n",
            "sexual_orientation    int64\n",
            "award                 int64\n",
            "genre                 int64\n",
            "gender                int64\n",
            "region                int64\n",
            "dtype: object\n"
          ]
        }
      ]
    },
    {
      "cell_type": "markdown",
      "source": [
        "Revisemos que significan algunos diccionarios."
      ],
      "metadata": {
        "id": "a7cO5Zn-T7K6"
      }
    },
    {
      "cell_type": "code",
      "source": [
        "genre_mapping = category_embedding[\"genre\"]  # 'category_embedding' es el diccionario que contiene el mapeo\n",
        "print(genre_mapping)"
      ],
      "metadata": {
        "colab": {
          "base_uri": "https://localhost:8080/"
        },
        "id": "hMsJ54l3QM1i",
        "outputId": "b8a502ec-788a-4b7c-a5f6-bbdf2a81cd6b"
      },
      "execution_count": null,
      "outputs": [
        {
          "output_type": "stream",
          "name": "stdout",
          "text": [
            "{'Comedia': 1, 'Drama': 2, 'Bélica': 3, 'Crimen': 4, 'Musical': 5, 'Aventura': 6, 'Biografía': 7, 'Thriller': 8, 'Western': 9, 'Romance': 10, 'Epica': 11, 'Suspenso': 12}\n"
          ]
        }
      ]
    },
    {
      "cell_type": "code",
      "source": [
        "award_mapping = category_embedding[\"award\"]  # 'category_embedding' es el diccionario que contiene el mapeo\n",
        "print(award_mapping)"
      ],
      "metadata": {
        "colab": {
          "base_uri": "https://localhost:8080/"
        },
        "id": "by3uAQ1SSAeI",
        "outputId": "5f629c8d-1364-42ca-8f88-537e94b67774"
      },
      "execution_count": null,
      "outputs": [
        {
          "output_type": "stream",
          "name": "stdout",
          "text": [
            "{'Best Director': 1, 'Best Actor': 2, 'Best Supporting Actor': 3, 'Best Actress': 4, 'Best Supporting Actress': 5}\n"
          ]
        }
      ]
    },
    {
      "cell_type": "code",
      "source": [
        "# Para finalizar con la transformación de los datos, se concatenan los df: df_encoded con df_copy\n",
        "df_concatenado = pd.concat([df_encoded, df_copy], axis=1)\n",
        "\n",
        "df_concatenado.info()\n"
      ],
      "metadata": {
        "colab": {
          "base_uri": "https://localhost:8080/"
        },
        "id": "1MTOY0SeNNsZ",
        "outputId": "5e590f4a-aebe-476f-d974-2b0b15119ad2"
      },
      "execution_count": null,
      "outputs": [
        {
          "output_type": "stream",
          "name": "stdout",
          "text": [
            "<class 'pandas.core.frame.DataFrame'>\n",
            "Index: 439 entries, 0 to 440\n",
            "Data columns (total 11 columns):\n",
            " #   Column              Non-Null Count  Dtype\n",
            "---  ------              --------------  -----\n",
            " 0   _golden             439 non-null    int64\n",
            " 1   _unit_state         439 non-null    int64\n",
            " 2   race_ethnicity      439 non-null    int64\n",
            " 3   religion            439 non-null    int64\n",
            " 4   sexual_orientation  439 non-null    int64\n",
            " 5   award               439 non-null    int64\n",
            " 6   genre               439 non-null    int64\n",
            " 7   gender              439 non-null    int64\n",
            " 8   region              439 non-null    int64\n",
            " 9   _trusted_judgments  439 non-null    int64\n",
            " 10  year_of_award       439 non-null    int64\n",
            "dtypes: int64(11)\n",
            "memory usage: 41.2 KB\n"
          ]
        }
      ]
    },
    {
      "cell_type": "code",
      "source": [
        "df_concatenado.describe() # Ahora que todos los datos son numéricos, podemos ver data estadística."
      ],
      "metadata": {
        "colab": {
          "base_uri": "https://localhost:8080/",
          "height": 320
        },
        "id": "9-I_LVrvtt7l",
        "outputId": "1604dfe8-0a40-4299-d661-48adbfec56e7"
      },
      "execution_count": null,
      "outputs": [
        {
          "output_type": "execute_result",
          "data": {
            "text/plain": [
              "          _golden  _unit_state  race_ethnicity    religion  \\\n",
              "count  439.000000   439.000000      439.000000  439.000000   \n",
              "mean     1.056948     1.056948        1.177677    8.031891   \n",
              "std      0.232007     0.232007        0.699219    6.418003   \n",
              "min      1.000000     1.000000        1.000000    1.000000   \n",
              "25%      1.000000     1.000000        1.000000    2.000000   \n",
              "50%      1.000000     1.000000        1.000000    6.000000   \n",
              "75%      1.000000     1.000000        1.000000   13.000000   \n",
              "max      2.000000     2.000000        6.000000   21.000000   \n",
              "\n",
              "       sexual_orientation       award       genre      gender      region  \\\n",
              "count          439.000000  439.000000  439.000000  439.000000  439.000000   \n",
              "mean             1.118451    2.988610    3.002278    1.378132    1.806378   \n",
              "std              0.482196    1.423019    2.233513    0.485474    0.642025   \n",
              "min              1.000000    1.000000    1.000000    1.000000    1.000000   \n",
              "25%              1.000000    2.000000    2.000000    1.000000    1.000000   \n",
              "50%              1.000000    3.000000    2.000000    1.000000    2.000000   \n",
              "75%              1.000000    4.000000    4.000000    2.000000    2.000000   \n",
              "max              5.000000    5.000000   12.000000    2.000000    6.000000   \n",
              "\n",
              "       _trusted_judgments  year_of_award  \n",
              "count          439.000000     439.000000  \n",
              "mean             7.658314    1972.990888  \n",
              "std             19.056318      23.945141  \n",
              "min              3.000000    1927.000000  \n",
              "25%              3.000000    1953.000000  \n",
              "50%              3.000000    1973.000000  \n",
              "75%              3.000000    1994.000000  \n",
              "max             95.000000    2014.000000  "
            ],
            "text/html": [
              "\n",
              "  <div id=\"df-5d38d1a5-20df-4ae9-ba49-89b453d8add4\" class=\"colab-df-container\">\n",
              "    <div>\n",
              "<style scoped>\n",
              "    .dataframe tbody tr th:only-of-type {\n",
              "        vertical-align: middle;\n",
              "    }\n",
              "\n",
              "    .dataframe tbody tr th {\n",
              "        vertical-align: top;\n",
              "    }\n",
              "\n",
              "    .dataframe thead th {\n",
              "        text-align: right;\n",
              "    }\n",
              "</style>\n",
              "<table border=\"1\" class=\"dataframe\">\n",
              "  <thead>\n",
              "    <tr style=\"text-align: right;\">\n",
              "      <th></th>\n",
              "      <th>_golden</th>\n",
              "      <th>_unit_state</th>\n",
              "      <th>race_ethnicity</th>\n",
              "      <th>religion</th>\n",
              "      <th>sexual_orientation</th>\n",
              "      <th>award</th>\n",
              "      <th>genre</th>\n",
              "      <th>gender</th>\n",
              "      <th>region</th>\n",
              "      <th>_trusted_judgments</th>\n",
              "      <th>year_of_award</th>\n",
              "    </tr>\n",
              "  </thead>\n",
              "  <tbody>\n",
              "    <tr>\n",
              "      <th>count</th>\n",
              "      <td>439.000000</td>\n",
              "      <td>439.000000</td>\n",
              "      <td>439.000000</td>\n",
              "      <td>439.000000</td>\n",
              "      <td>439.000000</td>\n",
              "      <td>439.000000</td>\n",
              "      <td>439.000000</td>\n",
              "      <td>439.000000</td>\n",
              "      <td>439.000000</td>\n",
              "      <td>439.000000</td>\n",
              "      <td>439.000000</td>\n",
              "    </tr>\n",
              "    <tr>\n",
              "      <th>mean</th>\n",
              "      <td>1.056948</td>\n",
              "      <td>1.056948</td>\n",
              "      <td>1.177677</td>\n",
              "      <td>8.031891</td>\n",
              "      <td>1.118451</td>\n",
              "      <td>2.988610</td>\n",
              "      <td>3.002278</td>\n",
              "      <td>1.378132</td>\n",
              "      <td>1.806378</td>\n",
              "      <td>7.658314</td>\n",
              "      <td>1972.990888</td>\n",
              "    </tr>\n",
              "    <tr>\n",
              "      <th>std</th>\n",
              "      <td>0.232007</td>\n",
              "      <td>0.232007</td>\n",
              "      <td>0.699219</td>\n",
              "      <td>6.418003</td>\n",
              "      <td>0.482196</td>\n",
              "      <td>1.423019</td>\n",
              "      <td>2.233513</td>\n",
              "      <td>0.485474</td>\n",
              "      <td>0.642025</td>\n",
              "      <td>19.056318</td>\n",
              "      <td>23.945141</td>\n",
              "    </tr>\n",
              "    <tr>\n",
              "      <th>min</th>\n",
              "      <td>1.000000</td>\n",
              "      <td>1.000000</td>\n",
              "      <td>1.000000</td>\n",
              "      <td>1.000000</td>\n",
              "      <td>1.000000</td>\n",
              "      <td>1.000000</td>\n",
              "      <td>1.000000</td>\n",
              "      <td>1.000000</td>\n",
              "      <td>1.000000</td>\n",
              "      <td>3.000000</td>\n",
              "      <td>1927.000000</td>\n",
              "    </tr>\n",
              "    <tr>\n",
              "      <th>25%</th>\n",
              "      <td>1.000000</td>\n",
              "      <td>1.000000</td>\n",
              "      <td>1.000000</td>\n",
              "      <td>2.000000</td>\n",
              "      <td>1.000000</td>\n",
              "      <td>2.000000</td>\n",
              "      <td>2.000000</td>\n",
              "      <td>1.000000</td>\n",
              "      <td>1.000000</td>\n",
              "      <td>3.000000</td>\n",
              "      <td>1953.000000</td>\n",
              "    </tr>\n",
              "    <tr>\n",
              "      <th>50%</th>\n",
              "      <td>1.000000</td>\n",
              "      <td>1.000000</td>\n",
              "      <td>1.000000</td>\n",
              "      <td>6.000000</td>\n",
              "      <td>1.000000</td>\n",
              "      <td>3.000000</td>\n",
              "      <td>2.000000</td>\n",
              "      <td>1.000000</td>\n",
              "      <td>2.000000</td>\n",
              "      <td>3.000000</td>\n",
              "      <td>1973.000000</td>\n",
              "    </tr>\n",
              "    <tr>\n",
              "      <th>75%</th>\n",
              "      <td>1.000000</td>\n",
              "      <td>1.000000</td>\n",
              "      <td>1.000000</td>\n",
              "      <td>13.000000</td>\n",
              "      <td>1.000000</td>\n",
              "      <td>4.000000</td>\n",
              "      <td>4.000000</td>\n",
              "      <td>2.000000</td>\n",
              "      <td>2.000000</td>\n",
              "      <td>3.000000</td>\n",
              "      <td>1994.000000</td>\n",
              "    </tr>\n",
              "    <tr>\n",
              "      <th>max</th>\n",
              "      <td>2.000000</td>\n",
              "      <td>2.000000</td>\n",
              "      <td>6.000000</td>\n",
              "      <td>21.000000</td>\n",
              "      <td>5.000000</td>\n",
              "      <td>5.000000</td>\n",
              "      <td>12.000000</td>\n",
              "      <td>2.000000</td>\n",
              "      <td>6.000000</td>\n",
              "      <td>95.000000</td>\n",
              "      <td>2014.000000</td>\n",
              "    </tr>\n",
              "  </tbody>\n",
              "</table>\n",
              "</div>\n",
              "    <div class=\"colab-df-buttons\">\n",
              "\n",
              "  <div class=\"colab-df-container\">\n",
              "    <button class=\"colab-df-convert\" onclick=\"convertToInteractive('df-5d38d1a5-20df-4ae9-ba49-89b453d8add4')\"\n",
              "            title=\"Convert this dataframe to an interactive table.\"\n",
              "            style=\"display:none;\">\n",
              "\n",
              "  <svg xmlns=\"http://www.w3.org/2000/svg\" height=\"24px\" viewBox=\"0 -960 960 960\">\n",
              "    <path d=\"M120-120v-720h720v720H120Zm60-500h600v-160H180v160Zm220 220h160v-160H400v160Zm0 220h160v-160H400v160ZM180-400h160v-160H180v160Zm440 0h160v-160H620v160ZM180-180h160v-160H180v160Zm440 0h160v-160H620v160Z\"/>\n",
              "  </svg>\n",
              "    </button>\n",
              "\n",
              "  <style>\n",
              "    .colab-df-container {\n",
              "      display:flex;\n",
              "      gap: 12px;\n",
              "    }\n",
              "\n",
              "    .colab-df-convert {\n",
              "      background-color: #E8F0FE;\n",
              "      border: none;\n",
              "      border-radius: 50%;\n",
              "      cursor: pointer;\n",
              "      display: none;\n",
              "      fill: #1967D2;\n",
              "      height: 32px;\n",
              "      padding: 0 0 0 0;\n",
              "      width: 32px;\n",
              "    }\n",
              "\n",
              "    .colab-df-convert:hover {\n",
              "      background-color: #E2EBFA;\n",
              "      box-shadow: 0px 1px 2px rgba(60, 64, 67, 0.3), 0px 1px 3px 1px rgba(60, 64, 67, 0.15);\n",
              "      fill: #174EA6;\n",
              "    }\n",
              "\n",
              "    .colab-df-buttons div {\n",
              "      margin-bottom: 4px;\n",
              "    }\n",
              "\n",
              "    [theme=dark] .colab-df-convert {\n",
              "      background-color: #3B4455;\n",
              "      fill: #D2E3FC;\n",
              "    }\n",
              "\n",
              "    [theme=dark] .colab-df-convert:hover {\n",
              "      background-color: #434B5C;\n",
              "      box-shadow: 0px 1px 3px 1px rgba(0, 0, 0, 0.15);\n",
              "      filter: drop-shadow(0px 1px 2px rgba(0, 0, 0, 0.3));\n",
              "      fill: #FFFFFF;\n",
              "    }\n",
              "  </style>\n",
              "\n",
              "    <script>\n",
              "      const buttonEl =\n",
              "        document.querySelector('#df-5d38d1a5-20df-4ae9-ba49-89b453d8add4 button.colab-df-convert');\n",
              "      buttonEl.style.display =\n",
              "        google.colab.kernel.accessAllowed ? 'block' : 'none';\n",
              "\n",
              "      async function convertToInteractive(key) {\n",
              "        const element = document.querySelector('#df-5d38d1a5-20df-4ae9-ba49-89b453d8add4');\n",
              "        const dataTable =\n",
              "          await google.colab.kernel.invokeFunction('convertToInteractive',\n",
              "                                                    [key], {});\n",
              "        if (!dataTable) return;\n",
              "\n",
              "        const docLinkHtml = 'Like what you see? Visit the ' +\n",
              "          '<a target=\"_blank\" href=https://colab.research.google.com/notebooks/data_table.ipynb>data table notebook</a>'\n",
              "          + ' to learn more about interactive tables.';\n",
              "        element.innerHTML = '';\n",
              "        dataTable['output_type'] = 'display_data';\n",
              "        await google.colab.output.renderOutput(dataTable, element);\n",
              "        const docLink = document.createElement('div');\n",
              "        docLink.innerHTML = docLinkHtml;\n",
              "        element.appendChild(docLink);\n",
              "      }\n",
              "    </script>\n",
              "  </div>\n",
              "\n",
              "\n",
              "<div id=\"df-e14084e7-81b0-4bfc-8d0b-7c12260dff2d\">\n",
              "  <button class=\"colab-df-quickchart\" onclick=\"quickchart('df-e14084e7-81b0-4bfc-8d0b-7c12260dff2d')\"\n",
              "            title=\"Suggest charts\"\n",
              "            style=\"display:none;\">\n",
              "\n",
              "<svg xmlns=\"http://www.w3.org/2000/svg\" height=\"24px\"viewBox=\"0 0 24 24\"\n",
              "     width=\"24px\">\n",
              "    <g>\n",
              "        <path d=\"M19 3H5c-1.1 0-2 .9-2 2v14c0 1.1.9 2 2 2h14c1.1 0 2-.9 2-2V5c0-1.1-.9-2-2-2zM9 17H7v-7h2v7zm4 0h-2V7h2v10zm4 0h-2v-4h2v4z\"/>\n",
              "    </g>\n",
              "</svg>\n",
              "  </button>\n",
              "\n",
              "<style>\n",
              "  .colab-df-quickchart {\n",
              "      --bg-color: #E8F0FE;\n",
              "      --fill-color: #1967D2;\n",
              "      --hover-bg-color: #E2EBFA;\n",
              "      --hover-fill-color: #174EA6;\n",
              "      --disabled-fill-color: #AAA;\n",
              "      --disabled-bg-color: #DDD;\n",
              "  }\n",
              "\n",
              "  [theme=dark] .colab-df-quickchart {\n",
              "      --bg-color: #3B4455;\n",
              "      --fill-color: #D2E3FC;\n",
              "      --hover-bg-color: #434B5C;\n",
              "      --hover-fill-color: #FFFFFF;\n",
              "      --disabled-bg-color: #3B4455;\n",
              "      --disabled-fill-color: #666;\n",
              "  }\n",
              "\n",
              "  .colab-df-quickchart {\n",
              "    background-color: var(--bg-color);\n",
              "    border: none;\n",
              "    border-radius: 50%;\n",
              "    cursor: pointer;\n",
              "    display: none;\n",
              "    fill: var(--fill-color);\n",
              "    height: 32px;\n",
              "    padding: 0;\n",
              "    width: 32px;\n",
              "  }\n",
              "\n",
              "  .colab-df-quickchart:hover {\n",
              "    background-color: var(--hover-bg-color);\n",
              "    box-shadow: 0 1px 2px rgba(60, 64, 67, 0.3), 0 1px 3px 1px rgba(60, 64, 67, 0.15);\n",
              "    fill: var(--button-hover-fill-color);\n",
              "  }\n",
              "\n",
              "  .colab-df-quickchart-complete:disabled,\n",
              "  .colab-df-quickchart-complete:disabled:hover {\n",
              "    background-color: var(--disabled-bg-color);\n",
              "    fill: var(--disabled-fill-color);\n",
              "    box-shadow: none;\n",
              "  }\n",
              "\n",
              "  .colab-df-spinner {\n",
              "    border: 2px solid var(--fill-color);\n",
              "    border-color: transparent;\n",
              "    border-bottom-color: var(--fill-color);\n",
              "    animation:\n",
              "      spin 1s steps(1) infinite;\n",
              "  }\n",
              "\n",
              "  @keyframes spin {\n",
              "    0% {\n",
              "      border-color: transparent;\n",
              "      border-bottom-color: var(--fill-color);\n",
              "      border-left-color: var(--fill-color);\n",
              "    }\n",
              "    20% {\n",
              "      border-color: transparent;\n",
              "      border-left-color: var(--fill-color);\n",
              "      border-top-color: var(--fill-color);\n",
              "    }\n",
              "    30% {\n",
              "      border-color: transparent;\n",
              "      border-left-color: var(--fill-color);\n",
              "      border-top-color: var(--fill-color);\n",
              "      border-right-color: var(--fill-color);\n",
              "    }\n",
              "    40% {\n",
              "      border-color: transparent;\n",
              "      border-right-color: var(--fill-color);\n",
              "      border-top-color: var(--fill-color);\n",
              "    }\n",
              "    60% {\n",
              "      border-color: transparent;\n",
              "      border-right-color: var(--fill-color);\n",
              "    }\n",
              "    80% {\n",
              "      border-color: transparent;\n",
              "      border-right-color: var(--fill-color);\n",
              "      border-bottom-color: var(--fill-color);\n",
              "    }\n",
              "    90% {\n",
              "      border-color: transparent;\n",
              "      border-bottom-color: var(--fill-color);\n",
              "    }\n",
              "  }\n",
              "</style>\n",
              "\n",
              "  <script>\n",
              "    async function quickchart(key) {\n",
              "      const quickchartButtonEl =\n",
              "        document.querySelector('#' + key + ' button');\n",
              "      quickchartButtonEl.disabled = true;  // To prevent multiple clicks.\n",
              "      quickchartButtonEl.classList.add('colab-df-spinner');\n",
              "      try {\n",
              "        const charts = await google.colab.kernel.invokeFunction(\n",
              "            'suggestCharts', [key], {});\n",
              "      } catch (error) {\n",
              "        console.error('Error during call to suggestCharts:', error);\n",
              "      }\n",
              "      quickchartButtonEl.classList.remove('colab-df-spinner');\n",
              "      quickchartButtonEl.classList.add('colab-df-quickchart-complete');\n",
              "    }\n",
              "    (() => {\n",
              "      let quickchartButtonEl =\n",
              "        document.querySelector('#df-e14084e7-81b0-4bfc-8d0b-7c12260dff2d button');\n",
              "      quickchartButtonEl.style.display =\n",
              "        google.colab.kernel.accessAllowed ? 'block' : 'none';\n",
              "    })();\n",
              "  </script>\n",
              "</div>\n",
              "\n",
              "    </div>\n",
              "  </div>\n"
            ],
            "application/vnd.google.colaboratory.intrinsic+json": {
              "type": "dataframe",
              "summary": "{\n  \"name\": \"df_concatenado\",\n  \"rows\": 8,\n  \"fields\": [\n    {\n      \"column\": \"_golden\",\n      \"properties\": {\n        \"dtype\": \"number\",\n        \"std\": 154.8425200478676,\n        \"min\": 0.2320068777272764,\n        \"max\": 439.0,\n        \"num_unique_values\": 5,\n        \"samples\": [\n          1.0569476082004556,\n          2.0,\n          0.2320068777272764\n        ],\n        \"semantic_type\": \"\",\n        \"description\": \"\"\n      }\n    },\n    {\n      \"column\": \"_unit_state\",\n      \"properties\": {\n        \"dtype\": \"number\",\n        \"std\": 154.8425200478676,\n        \"min\": 0.2320068777272764,\n        \"max\": 439.0,\n        \"num_unique_values\": 5,\n        \"samples\": [\n          1.0569476082004556,\n          2.0,\n          0.2320068777272764\n        ],\n        \"semantic_type\": \"\",\n        \"description\": \"\"\n      }\n    },\n    {\n      \"column\": \"race_ethnicity\",\n      \"properties\": {\n        \"dtype\": \"number\",\n        \"std\": 154.6201007937472,\n        \"min\": 0.6992187911978911,\n        \"max\": 439.0,\n        \"num_unique_values\": 5,\n        \"samples\": [\n          1.1776765375854215,\n          6.0,\n          0.6992187911978911\n        ],\n        \"semantic_type\": \"\",\n        \"description\": \"\"\n      }\n    },\n    {\n      \"column\": \"religion\",\n      \"properties\": {\n        \"dtype\": \"number\",\n        \"std\": 152.44197487404944,\n        \"min\": 1.0,\n        \"max\": 439.0,\n        \"num_unique_values\": 8,\n        \"samples\": [\n          8.031890660592255,\n          6.0,\n          439.0\n        ],\n        \"semantic_type\": \"\",\n        \"description\": \"\"\n      }\n    },\n    {\n      \"column\": \"sexual_orientation\",\n      \"properties\": {\n        \"dtype\": \"number\",\n        \"std\": 154.68118860456073,\n        \"min\": 0.4821956695075862,\n        \"max\": 439.0,\n        \"num_unique_values\": 5,\n        \"samples\": [\n          1.1184510250569477,\n          5.0,\n          0.4821956695075862\n        ],\n        \"semantic_type\": \"\",\n        \"description\": \"\"\n      }\n    },\n    {\n      \"column\": \"award\",\n      \"properties\": {\n        \"dtype\": \"number\",\n        \"std\": 154.23511920755377,\n        \"min\": 1.0,\n        \"max\": 439.0,\n        \"num_unique_values\": 8,\n        \"samples\": [\n          2.988610478359909,\n          3.0,\n          439.0\n        ],\n        \"semantic_type\": \"\",\n        \"description\": \"\"\n      }\n    },\n    {\n      \"column\": \"genre\",\n      \"properties\": {\n        \"dtype\": \"number\",\n        \"std\": 153.92412770900773,\n        \"min\": 1.0,\n        \"max\": 439.0,\n        \"num_unique_values\": 7,\n        \"samples\": [\n          439.0,\n          3.002277904328018,\n          4.0\n        ],\n        \"semantic_type\": \"\",\n        \"description\": \"\"\n      }\n    },\n    {\n      \"column\": \"gender\",\n      \"properties\": {\n        \"dtype\": \"number\",\n        \"std\": 154.76314101278,\n        \"min\": 0.48547408533071423,\n        \"max\": 439.0,\n        \"num_unique_values\": 5,\n        \"samples\": [\n          1.3781321184510251,\n          2.0,\n          0.48547408533071423\n        ],\n        \"semantic_type\": \"\",\n        \"description\": \"\"\n      }\n    },\n    {\n      \"column\": \"region\",\n      \"properties\": {\n        \"dtype\": \"number\",\n        \"std\": 154.48936318471033,\n        \"min\": 0.6420254430122235,\n        \"max\": 439.0,\n        \"num_unique_values\": 6,\n        \"samples\": [\n          439.0,\n          1.806378132118451,\n          6.0\n        ],\n        \"semantic_type\": \"\",\n        \"description\": \"\"\n      }\n    },\n    {\n      \"column\": \"_trusted_judgments\",\n      \"properties\": {\n        \"dtype\": \"number\",\n        \"std\": 151.75334157939864,\n        \"min\": 3.0,\n        \"max\": 439.0,\n        \"num_unique_values\": 5,\n        \"samples\": [\n          7.658314350797267,\n          95.0,\n          19.056318068801065\n        ],\n        \"semantic_type\": \"\",\n        \"description\": \"\"\n      }\n    },\n    {\n      \"column\": \"year_of_award\",\n      \"properties\": {\n        \"dtype\": \"number\",\n        \"std\": 813.8670434968808,\n        \"min\": 23.945141047874028,\n        \"max\": 2014.0,\n        \"num_unique_values\": 8,\n        \"samples\": [\n          1972.990888382688,\n          1973.0,\n          439.0\n        ],\n        \"semantic_type\": \"\",\n        \"description\": \"\"\n      }\n    }\n  ]\n}"
            }
          },
          "metadata": {},
          "execution_count": 19
        }
      ]
    },
    {
      "cell_type": "code",
      "source": [
        "# Analizamos mapa de correlación\n",
        "corr = df_concatenado.corr()\n",
        "corr.style.background_gradient()"
      ],
      "metadata": {
        "colab": {
          "base_uri": "https://localhost:8080/",
          "height": 414
        },
        "id": "r6QMiPUlNfx-",
        "outputId": "463f8834-1dc7-468c-b432-f5b59d1b4997"
      },
      "execution_count": null,
      "outputs": [
        {
          "output_type": "execute_result",
          "data": {
            "text/plain": [
              "<pandas.io.formats.style.Styler at 0x78aedef3b1f0>"
            ],
            "text/html": [
              "<style type=\"text/css\">\n",
              "#T_4ef25_row0_col0, #T_4ef25_row0_col1, #T_4ef25_row1_col0, #T_4ef25_row1_col1, #T_4ef25_row2_col2, #T_4ef25_row3_col3, #T_4ef25_row4_col4, #T_4ef25_row5_col5, #T_4ef25_row6_col6, #T_4ef25_row7_col7, #T_4ef25_row8_col8, #T_4ef25_row9_col9, #T_4ef25_row10_col10 {\n",
              "  background-color: #023858;\n",
              "  color: #f1f1f1;\n",
              "}\n",
              "#T_4ef25_row0_col2, #T_4ef25_row0_col8, #T_4ef25_row1_col2, #T_4ef25_row1_col8, #T_4ef25_row3_col4, #T_4ef25_row4_col0, #T_4ef25_row4_col1, #T_4ef25_row4_col3, #T_4ef25_row4_col9, #T_4ef25_row4_col10, #T_4ef25_row6_col5, #T_4ef25_row6_col7, #T_4ef25_row7_col6, #T_4ef25_row9_col2, #T_4ef25_row9_col8 {\n",
              "  background-color: #fff7fb;\n",
              "  color: #000000;\n",
              "}\n",
              "#T_4ef25_row0_col3, #T_4ef25_row1_col3, #T_4ef25_row5_col8 {\n",
              "  background-color: #f0eaf4;\n",
              "  color: #000000;\n",
              "}\n",
              "#T_4ef25_row0_col4, #T_4ef25_row1_col4, #T_4ef25_row3_col9, #T_4ef25_row6_col8, #T_4ef25_row9_col4 {\n",
              "  background-color: #f8f1f8;\n",
              "  color: #000000;\n",
              "}\n",
              "#T_4ef25_row0_col5, #T_4ef25_row1_col5, #T_4ef25_row8_col6 {\n",
              "  background-color: #e4e1ef;\n",
              "  color: #000000;\n",
              "}\n",
              "#T_4ef25_row0_col6, #T_4ef25_row1_col6, #T_4ef25_row10_col8 {\n",
              "  background-color: #f1ebf5;\n",
              "  color: #000000;\n",
              "}\n",
              "#T_4ef25_row0_col7, #T_4ef25_row1_col7, #T_4ef25_row9_col5 {\n",
              "  background-color: #e3e0ee;\n",
              "  color: #000000;\n",
              "}\n",
              "#T_4ef25_row0_col9, #T_4ef25_row1_col9, #T_4ef25_row9_col0, #T_4ef25_row9_col1 {\n",
              "  background-color: #02395a;\n",
              "  color: #f1f1f1;\n",
              "}\n",
              "#T_4ef25_row0_col10, #T_4ef25_row1_col10, #T_4ef25_row9_col10 {\n",
              "  background-color: #f4edf6;\n",
              "  color: #000000;\n",
              "}\n",
              "#T_4ef25_row2_col0, #T_4ef25_row2_col1, #T_4ef25_row2_col9, #T_4ef25_row3_col8, #T_4ef25_row4_col2, #T_4ef25_row7_col2 {\n",
              "  background-color: #fdf5fa;\n",
              "  color: #000000;\n",
              "}\n",
              "#T_4ef25_row2_col3, #T_4ef25_row8_col10, #T_4ef25_row10_col7 {\n",
              "  background-color: #eee8f3;\n",
              "  color: #000000;\n",
              "}\n",
              "#T_4ef25_row2_col4, #T_4ef25_row5_col10, #T_4ef25_row6_col4, #T_4ef25_row7_col0, #T_4ef25_row7_col1, #T_4ef25_row7_col8, #T_4ef25_row7_col9, #T_4ef25_row8_col4, #T_4ef25_row10_col0, #T_4ef25_row10_col1, #T_4ef25_row10_col9 {\n",
              "  background-color: #f2ecf5;\n",
              "  color: #000000;\n",
              "}\n",
              "#T_4ef25_row2_col5, #T_4ef25_row3_col7 {\n",
              "  background-color: #e6e2ef;\n",
              "  color: #000000;\n",
              "}\n",
              "#T_4ef25_row2_col6 {\n",
              "  background-color: #ece7f2;\n",
              "  color: #000000;\n",
              "}\n",
              "#T_4ef25_row2_col7, #T_4ef25_row5_col0, #T_4ef25_row5_col1, #T_4ef25_row7_col3 {\n",
              "  background-color: #ede8f3;\n",
              "  color: #000000;\n",
              "}\n",
              "#T_4ef25_row2_col8, #T_4ef25_row4_col6, #T_4ef25_row5_col9 {\n",
              "  background-color: #ede7f2;\n",
              "  color: #000000;\n",
              "}\n",
              "#T_4ef25_row2_col10 {\n",
              "  background-color: #d8d7e9;\n",
              "  color: #000000;\n",
              "}\n",
              "#T_4ef25_row3_col0, #T_4ef25_row3_col1, #T_4ef25_row3_col2, #T_4ef25_row10_col4 {\n",
              "  background-color: #f7f0f7;\n",
              "  color: #000000;\n",
              "}\n",
              "#T_4ef25_row3_col5 {\n",
              "  background-color: #dedcec;\n",
              "  color: #000000;\n",
              "}\n",
              "#T_4ef25_row3_col6, #T_4ef25_row10_col2 {\n",
              "  background-color: #d9d8ea;\n",
              "  color: #000000;\n",
              "}\n",
              "#T_4ef25_row3_col10, #T_4ef25_row7_col10 {\n",
              "  background-color: #fbf4f9;\n",
              "  color: #000000;\n",
              "}\n",
              "#T_4ef25_row4_col5, #T_4ef25_row5_col4 {\n",
              "  background-color: #f5eef6;\n",
              "  color: #000000;\n",
              "}\n",
              "#T_4ef25_row4_col7 {\n",
              "  background-color: #ebe6f2;\n",
              "  color: #000000;\n",
              "}\n",
              "#T_4ef25_row4_col8 {\n",
              "  background-color: #fef6fb;\n",
              "  color: #000000;\n",
              "}\n",
              "#T_4ef25_row5_col2, #T_4ef25_row7_col4, #T_4ef25_row8_col3, #T_4ef25_row9_col3, #T_4ef25_row9_col6 {\n",
              "  background-color: #f1ebf4;\n",
              "  color: #000000;\n",
              "}\n",
              "#T_4ef25_row5_col3, #T_4ef25_row8_col7 {\n",
              "  background-color: #dddbec;\n",
              "  color: #000000;\n",
              "}\n",
              "#T_4ef25_row5_col6 {\n",
              "  background-color: #f9f2f8;\n",
              "  color: #000000;\n",
              "}\n",
              "#T_4ef25_row5_col7 {\n",
              "  background-color: #046299;\n",
              "  color: #f1f1f1;\n",
              "}\n",
              "#T_4ef25_row6_col0, #T_4ef25_row6_col1, #T_4ef25_row6_col9 {\n",
              "  background-color: #fef6fa;\n",
              "  color: #000000;\n",
              "}\n",
              "#T_4ef25_row6_col2 {\n",
              "  background-color: #fbf3f9;\n",
              "  color: #000000;\n",
              "}\n",
              "#T_4ef25_row6_col3, #T_4ef25_row8_col5 {\n",
              "  background-color: #e1dfed;\n",
              "  color: #000000;\n",
              "}\n",
              "#T_4ef25_row6_col10 {\n",
              "  background-color: #e0deed;\n",
              "  color: #000000;\n",
              "}\n",
              "#T_4ef25_row7_col5 {\n",
              "  background-color: #04639b;\n",
              "  color: #f1f1f1;\n",
              "}\n",
              "#T_4ef25_row8_col0, #T_4ef25_row8_col1 {\n",
              "  background-color: #faf2f8;\n",
              "  color: #000000;\n",
              "}\n",
              "#T_4ef25_row8_col2, #T_4ef25_row10_col5 {\n",
              "  background-color: #eae6f1;\n",
              "  color: #000000;\n",
              "}\n",
              "#T_4ef25_row8_col9 {\n",
              "  background-color: #faf3f9;\n",
              "  color: #000000;\n",
              "}\n",
              "#T_4ef25_row9_col7 {\n",
              "  background-color: #e2dfee;\n",
              "  color: #000000;\n",
              "}\n",
              "#T_4ef25_row10_col3 {\n",
              "  background-color: #f3edf5;\n",
              "  color: #000000;\n",
              "}\n",
              "#T_4ef25_row10_col6 {\n",
              "  background-color: #d0d1e6;\n",
              "  color: #000000;\n",
              "}\n",
              "</style>\n",
              "<table id=\"T_4ef25\" class=\"dataframe\">\n",
              "  <thead>\n",
              "    <tr>\n",
              "      <th class=\"blank level0\" >&nbsp;</th>\n",
              "      <th id=\"T_4ef25_level0_col0\" class=\"col_heading level0 col0\" >_golden</th>\n",
              "      <th id=\"T_4ef25_level0_col1\" class=\"col_heading level0 col1\" >_unit_state</th>\n",
              "      <th id=\"T_4ef25_level0_col2\" class=\"col_heading level0 col2\" >race_ethnicity</th>\n",
              "      <th id=\"T_4ef25_level0_col3\" class=\"col_heading level0 col3\" >religion</th>\n",
              "      <th id=\"T_4ef25_level0_col4\" class=\"col_heading level0 col4\" >sexual_orientation</th>\n",
              "      <th id=\"T_4ef25_level0_col5\" class=\"col_heading level0 col5\" >award</th>\n",
              "      <th id=\"T_4ef25_level0_col6\" class=\"col_heading level0 col6\" >genre</th>\n",
              "      <th id=\"T_4ef25_level0_col7\" class=\"col_heading level0 col7\" >gender</th>\n",
              "      <th id=\"T_4ef25_level0_col8\" class=\"col_heading level0 col8\" >region</th>\n",
              "      <th id=\"T_4ef25_level0_col9\" class=\"col_heading level0 col9\" >_trusted_judgments</th>\n",
              "      <th id=\"T_4ef25_level0_col10\" class=\"col_heading level0 col10\" >year_of_award</th>\n",
              "    </tr>\n",
              "  </thead>\n",
              "  <tbody>\n",
              "    <tr>\n",
              "      <th id=\"T_4ef25_level0_row0\" class=\"row_heading level0 row0\" >_golden</th>\n",
              "      <td id=\"T_4ef25_row0_col0\" class=\"data row0 col0\" >1.000000</td>\n",
              "      <td id=\"T_4ef25_row0_col1\" class=\"data row0 col1\" >1.000000</td>\n",
              "      <td id=\"T_4ef25_row0_col2\" class=\"data row0 col2\" >-0.020293</td>\n",
              "      <td id=\"T_4ef25_row0_col3\" class=\"data row0 col3\" >0.020244</td>\n",
              "      <td id=\"T_4ef25_row0_col4\" class=\"data row0 col4\" >-0.040026</td>\n",
              "      <td id=\"T_4ef25_row0_col5\" class=\"data row0 col5\" >0.084953</td>\n",
              "      <td id=\"T_4ef25_row0_col6\" class=\"data row0 col6\" >-0.031092</td>\n",
              "      <td id=\"T_4ef25_row0_col7\" class=\"data row0 col7\" >0.051622</td>\n",
              "      <td id=\"T_4ef25_row0_col8\" class=\"data row0 col8\" >-0.002444</td>\n",
              "      <td id=\"T_4ef25_row0_col9\" class=\"data row0 col9\" >0.995899</td>\n",
              "      <td id=\"T_4ef25_row0_col10\" class=\"data row0 col10\" >0.045711</td>\n",
              "    </tr>\n",
              "    <tr>\n",
              "      <th id=\"T_4ef25_level0_row1\" class=\"row_heading level0 row1\" >_unit_state</th>\n",
              "      <td id=\"T_4ef25_row1_col0\" class=\"data row1 col0\" >1.000000</td>\n",
              "      <td id=\"T_4ef25_row1_col1\" class=\"data row1 col1\" >1.000000</td>\n",
              "      <td id=\"T_4ef25_row1_col2\" class=\"data row1 col2\" >-0.020293</td>\n",
              "      <td id=\"T_4ef25_row1_col3\" class=\"data row1 col3\" >0.020244</td>\n",
              "      <td id=\"T_4ef25_row1_col4\" class=\"data row1 col4\" >-0.040026</td>\n",
              "      <td id=\"T_4ef25_row1_col5\" class=\"data row1 col5\" >0.084953</td>\n",
              "      <td id=\"T_4ef25_row1_col6\" class=\"data row1 col6\" >-0.031092</td>\n",
              "      <td id=\"T_4ef25_row1_col7\" class=\"data row1 col7\" >0.051622</td>\n",
              "      <td id=\"T_4ef25_row1_col8\" class=\"data row1 col8\" >-0.002444</td>\n",
              "      <td id=\"T_4ef25_row1_col9\" class=\"data row1 col9\" >0.995899</td>\n",
              "      <td id=\"T_4ef25_row1_col10\" class=\"data row1 col10\" >0.045711</td>\n",
              "    </tr>\n",
              "    <tr>\n",
              "      <th id=\"T_4ef25_level0_row2\" class=\"row_heading level0 row2\" >race_ethnicity</th>\n",
              "      <td id=\"T_4ef25_row2_col0\" class=\"data row2 col0\" >-0.020293</td>\n",
              "      <td id=\"T_4ef25_row2_col1\" class=\"data row2 col1\" >-0.020293</td>\n",
              "      <td id=\"T_4ef25_row2_col2\" class=\"data row2 col2\" >1.000000</td>\n",
              "      <td id=\"T_4ef25_row2_col3\" class=\"data row2 col3\" >0.034348</td>\n",
              "      <td id=\"T_4ef25_row2_col4\" class=\"data row2 col4\" >-0.001620</td>\n",
              "      <td id=\"T_4ef25_row2_col5\" class=\"data row2 col5\" >0.077759</td>\n",
              "      <td id=\"T_4ef25_row2_col6\" class=\"data row2 col6\" >0.008512</td>\n",
              "      <td id=\"T_4ef25_row2_col7\" class=\"data row2 col7\" >-0.003325</td>\n",
              "      <td id=\"T_4ef25_row2_col8\" class=\"data row2 col8\" >0.117495</td>\n",
              "      <td id=\"T_4ef25_row2_col9\" class=\"data row2 col9\" >-0.019593</td>\n",
              "      <td id=\"T_4ef25_row2_col10\" class=\"data row2 col10\" >0.192368</td>\n",
              "    </tr>\n",
              "    <tr>\n",
              "      <th id=\"T_4ef25_level0_row3\" class=\"row_heading level0 row3\" >religion</th>\n",
              "      <td id=\"T_4ef25_row3_col0\" class=\"data row3 col0\" >0.020244</td>\n",
              "      <td id=\"T_4ef25_row3_col1\" class=\"data row3 col1\" >0.020244</td>\n",
              "      <td id=\"T_4ef25_row3_col2\" class=\"data row3 col2\" >0.034348</td>\n",
              "      <td id=\"T_4ef25_row3_col3\" class=\"data row3 col3\" >1.000000</td>\n",
              "      <td id=\"T_4ef25_row3_col4\" class=\"data row3 col4\" >-0.093441</td>\n",
              "      <td id=\"T_4ef25_row3_col5\" class=\"data row3 col5\" >0.118033</td>\n",
              "      <td id=\"T_4ef25_row3_col6\" class=\"data row3 col6\" >0.098425</td>\n",
              "      <td id=\"T_4ef25_row3_col7\" class=\"data row3 col7\" >0.035690</td>\n",
              "      <td id=\"T_4ef25_row3_col8\" class=\"data row3 col8\" >0.012584</td>\n",
              "      <td id=\"T_4ef25_row3_col9\" class=\"data row3 col9\" >0.011532</td>\n",
              "      <td id=\"T_4ef25_row3_col10\" class=\"data row3 col10\" >-0.006327</td>\n",
              "    </tr>\n",
              "    <tr>\n",
              "      <th id=\"T_4ef25_level0_row4\" class=\"row_heading level0 row4\" >sexual_orientation</th>\n",
              "      <td id=\"T_4ef25_row4_col0\" class=\"data row4 col0\" >-0.040026</td>\n",
              "      <td id=\"T_4ef25_row4_col1\" class=\"data row4 col1\" >-0.040026</td>\n",
              "      <td id=\"T_4ef25_row4_col2\" class=\"data row4 col2\" >-0.001620</td>\n",
              "      <td id=\"T_4ef25_row4_col3\" class=\"data row4 col3\" >-0.093441</td>\n",
              "      <td id=\"T_4ef25_row4_col4\" class=\"data row4 col4\" >1.000000</td>\n",
              "      <td id=\"T_4ef25_row4_col5\" class=\"data row4 col5\" >-0.017993</td>\n",
              "      <td id=\"T_4ef25_row4_col6\" class=\"data row4 col6\" >0.001869</td>\n",
              "      <td id=\"T_4ef25_row4_col7\" class=\"data row4 col7\" >0.013041</td>\n",
              "      <td id=\"T_4ef25_row4_col8\" class=\"data row4 col8\" >0.000504</td>\n",
              "      <td id=\"T_4ef25_row4_col9\" class=\"data row4 col9\" >-0.039315</td>\n",
              "      <td id=\"T_4ef25_row4_col10\" class=\"data row4 col10\" >-0.032137</td>\n",
              "    </tr>\n",
              "    <tr>\n",
              "      <th id=\"T_4ef25_level0_row5\" class=\"row_heading level0 row5\" >award</th>\n",
              "      <td id=\"T_4ef25_row5_col0\" class=\"data row5 col0\" >0.084953</td>\n",
              "      <td id=\"T_4ef25_row5_col1\" class=\"data row5 col1\" >0.084953</td>\n",
              "      <td id=\"T_4ef25_row5_col2\" class=\"data row5 col2\" >0.077759</td>\n",
              "      <td id=\"T_4ef25_row5_col3\" class=\"data row5 col3\" >0.118033</td>\n",
              "      <td id=\"T_4ef25_row5_col4\" class=\"data row5 col4\" >-0.017993</td>\n",
              "      <td id=\"T_4ef25_row5_col5\" class=\"data row5 col5\" >1.000000</td>\n",
              "      <td id=\"T_4ef25_row5_col6\" class=\"data row5 col6\" >-0.090502</td>\n",
              "      <td id=\"T_4ef25_row5_col7\" class=\"data row5 col7\" >0.806017</td>\n",
              "      <td id=\"T_4ef25_row5_col8\" class=\"data row5 col8\" >0.097540</td>\n",
              "      <td id=\"T_4ef25_row5_col9\" class=\"data row5 col9\" >0.089017</td>\n",
              "      <td id=\"T_4ef25_row5_col10\" class=\"data row5 col10\" >0.057486</td>\n",
              "    </tr>\n",
              "    <tr>\n",
              "      <th id=\"T_4ef25_level0_row6\" class=\"row_heading level0 row6\" >genre</th>\n",
              "      <td id=\"T_4ef25_row6_col0\" class=\"data row6 col0\" >-0.031092</td>\n",
              "      <td id=\"T_4ef25_row6_col1\" class=\"data row6 col1\" >-0.031092</td>\n",
              "      <td id=\"T_4ef25_row6_col2\" class=\"data row6 col2\" >0.008512</td>\n",
              "      <td id=\"T_4ef25_row6_col3\" class=\"data row6 col3\" >0.098425</td>\n",
              "      <td id=\"T_4ef25_row6_col4\" class=\"data row6 col4\" >0.001869</td>\n",
              "      <td id=\"T_4ef25_row6_col5\" class=\"data row6 col5\" >-0.090502</td>\n",
              "      <td id=\"T_4ef25_row6_col6\" class=\"data row6 col6\" >1.000000</td>\n",
              "      <td id=\"T_4ef25_row6_col7\" class=\"data row6 col7\" >-0.137659</td>\n",
              "      <td id=\"T_4ef25_row6_col8\" class=\"data row6 col8\" >0.046481</td>\n",
              "      <td id=\"T_4ef25_row6_col9\" class=\"data row6 col9\" >-0.027446</td>\n",
              "      <td id=\"T_4ef25_row6_col10\" class=\"data row6 col10\" >0.150438</td>\n",
              "    </tr>\n",
              "    <tr>\n",
              "      <th id=\"T_4ef25_level0_row7\" class=\"row_heading level0 row7\" >gender</th>\n",
              "      <td id=\"T_4ef25_row7_col0\" class=\"data row7 col0\" >0.051622</td>\n",
              "      <td id=\"T_4ef25_row7_col1\" class=\"data row7 col1\" >0.051622</td>\n",
              "      <td id=\"T_4ef25_row7_col2\" class=\"data row7 col2\" >-0.003325</td>\n",
              "      <td id=\"T_4ef25_row7_col3\" class=\"data row7 col3\" >0.035690</td>\n",
              "      <td id=\"T_4ef25_row7_col4\" class=\"data row7 col4\" >0.013041</td>\n",
              "      <td id=\"T_4ef25_row7_col5\" class=\"data row7 col5\" >0.806017</td>\n",
              "      <td id=\"T_4ef25_row7_col6\" class=\"data row7 col6\" >-0.137659</td>\n",
              "      <td id=\"T_4ef25_row7_col7\" class=\"data row7 col7\" >1.000000</td>\n",
              "      <td id=\"T_4ef25_row7_col8\" class=\"data row7 col8\" >0.081610</td>\n",
              "      <td id=\"T_4ef25_row7_col9\" class=\"data row7 col9\" >0.053730</td>\n",
              "      <td id=\"T_4ef25_row7_col10\" class=\"data row7 col10\" >-0.005399</td>\n",
              "    </tr>\n",
              "    <tr>\n",
              "      <th id=\"T_4ef25_level0_row8\" class=\"row_heading level0 row8\" >region</th>\n",
              "      <td id=\"T_4ef25_row8_col0\" class=\"data row8 col0\" >-0.002444</td>\n",
              "      <td id=\"T_4ef25_row8_col1\" class=\"data row8 col1\" >-0.002444</td>\n",
              "      <td id=\"T_4ef25_row8_col2\" class=\"data row8 col2\" >0.117495</td>\n",
              "      <td id=\"T_4ef25_row8_col3\" class=\"data row8 col3\" >0.012584</td>\n",
              "      <td id=\"T_4ef25_row8_col4\" class=\"data row8 col4\" >0.000504</td>\n",
              "      <td id=\"T_4ef25_row8_col5\" class=\"data row8 col5\" >0.097540</td>\n",
              "      <td id=\"T_4ef25_row8_col6\" class=\"data row8 col6\" >0.046481</td>\n",
              "      <td id=\"T_4ef25_row8_col7\" class=\"data row8 col7\" >0.081610</td>\n",
              "      <td id=\"T_4ef25_row8_col8\" class=\"data row8 col8\" >1.000000</td>\n",
              "      <td id=\"T_4ef25_row8_col9\" class=\"data row8 col9\" >-0.004487</td>\n",
              "      <td id=\"T_4ef25_row8_col10\" class=\"data row8 col10\" >0.086912</td>\n",
              "    </tr>\n",
              "    <tr>\n",
              "      <th id=\"T_4ef25_level0_row9\" class=\"row_heading level0 row9\" >_trusted_judgments</th>\n",
              "      <td id=\"T_4ef25_row9_col0\" class=\"data row9 col0\" >0.995899</td>\n",
              "      <td id=\"T_4ef25_row9_col1\" class=\"data row9 col1\" >0.995899</td>\n",
              "      <td id=\"T_4ef25_row9_col2\" class=\"data row9 col2\" >-0.019593</td>\n",
              "      <td id=\"T_4ef25_row9_col3\" class=\"data row9 col3\" >0.011532</td>\n",
              "      <td id=\"T_4ef25_row9_col4\" class=\"data row9 col4\" >-0.039315</td>\n",
              "      <td id=\"T_4ef25_row9_col5\" class=\"data row9 col5\" >0.089017</td>\n",
              "      <td id=\"T_4ef25_row9_col6\" class=\"data row9 col6\" >-0.027446</td>\n",
              "      <td id=\"T_4ef25_row9_col7\" class=\"data row9 col7\" >0.053730</td>\n",
              "      <td id=\"T_4ef25_row9_col8\" class=\"data row9 col8\" >-0.004487</td>\n",
              "      <td id=\"T_4ef25_row9_col9\" class=\"data row9 col9\" >1.000000</td>\n",
              "      <td id=\"T_4ef25_row9_col10\" class=\"data row9 col10\" >0.046075</td>\n",
              "    </tr>\n",
              "    <tr>\n",
              "      <th id=\"T_4ef25_level0_row10\" class=\"row_heading level0 row10\" >year_of_award</th>\n",
              "      <td id=\"T_4ef25_row10_col0\" class=\"data row10 col0\" >0.045711</td>\n",
              "      <td id=\"T_4ef25_row10_col1\" class=\"data row10 col1\" >0.045711</td>\n",
              "      <td id=\"T_4ef25_row10_col2\" class=\"data row10 col2\" >0.192368</td>\n",
              "      <td id=\"T_4ef25_row10_col3\" class=\"data row10 col3\" >-0.006327</td>\n",
              "      <td id=\"T_4ef25_row10_col4\" class=\"data row10 col4\" >-0.032137</td>\n",
              "      <td id=\"T_4ef25_row10_col5\" class=\"data row10 col5\" >0.057486</td>\n",
              "      <td id=\"T_4ef25_row10_col6\" class=\"data row10 col6\" >0.150438</td>\n",
              "      <td id=\"T_4ef25_row10_col7\" class=\"data row10 col7\" >-0.005399</td>\n",
              "      <td id=\"T_4ef25_row10_col8\" class=\"data row10 col8\" >0.086912</td>\n",
              "      <td id=\"T_4ef25_row10_col9\" class=\"data row10 col9\" >0.046075</td>\n",
              "      <td id=\"T_4ef25_row10_col10\" class=\"data row10 col10\" >1.000000</td>\n",
              "    </tr>\n",
              "  </tbody>\n",
              "</table>\n"
            ]
          },
          "metadata": {},
          "execution_count": 20
        }
      ]
    },
    {
      "cell_type": "markdown",
      "source": [
        "**Observación:**\n",
        "Hay tres variables que evalúan la confiabilidad de la data y que, según el mapa de correlación, existe una fuerte relacion entre ellas.\n",
        "\n",
        "Las columnas son:\n",
        "- _trusted_judgments: Número de juicios confiables otorgados a la unidad de datos por los anotadores.\n",
        "\n",
        "- _golden: Indica si la fila es una instancia verdadera o falsa. Es decir, una instancia de referencia confiable o no confiable que puede ser utilizada para evaluar la calidad del trabajo de los anotadores.\n",
        "\n",
        "- _unit_state: Estado de la unidad de datos, puede ser \"golden\", \"finalized\", etc.\n",
        "\n",
        "A pesar de su gran correlación, nuestro análisis seguirá la correlación que existe entre **género y premio**.\n"
      ],
      "metadata": {
        "id": "Sw9RUMglhzY2"
      }
    },
    {
      "cell_type": "code",
      "source": [
        "# Ruta en la que deseas guardar el archivo en tu Google Drive\n",
        "file_path = '/content/drive/My Drive/Proyecto 7/data/df_concatenado.pkl'\n",
        "\n",
        "# Guardar el DataFrame en un archivo pickle en Google Drive\n",
        "with open(file_path, 'wb') as f:\n",
        "    pickle.dump(df_concatenado, f)"
      ],
      "metadata": {
        "id": "0UfadrDwK8wS"
      },
      "execution_count": null,
      "outputs": []
    }
  ]
}