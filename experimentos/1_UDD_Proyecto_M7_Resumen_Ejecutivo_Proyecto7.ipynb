{
  "nbformat": 4,
  "nbformat_minor": 0,
  "metadata": {
    "colab": {
      "provenance": []
    },
    "kernelspec": {
      "name": "python3",
      "display_name": "Python 3"
    },
    "language_info": {
      "name": "python"
    }
  },
  "cells": [
    {
      "cell_type": "markdown",
      "source": [
        "# **Resumen Ejecutivo**\n",
        "\n",
        "El siguiente proyecto de Data Science analiza el conjunto de datos que trata sobre *estadísticas demográficas de los ganadores del premio Oscar* de la Academia: https://www.kaggle.com/datasets/fmejia21/demographics-of-academy-awards-oscars-winnersinformación"
      ],
      "metadata": {
        "id": "QLaPCCvtXvNX"
      }
    },
    {
      "cell_type": "markdown",
      "source": [
        "El dataset contiene 27 columnas, a continuación una descripción de cada columna:\n",
        "\n",
        "**_unit_id:** Identificador único asignado a cada unidad de datos en el conjunto de datos.\n",
        "\n",
        "**_golden:** Indica si la fila es una instancia verdadera o falsa. Es decir, una instancia de referencia confiable o no confiable que puede ser utilizada para evaluar la calidad del trabajo de los anotadores.\n",
        "\n",
        "**_unit_state:** Estado de la unidad de datos, puede ser \"golden\", \"finalized\", etc.\n",
        "\n",
        "**_trusted_judgments**: Número de juicios confiables otorgados a la unidad de datos por los anotadores.\n",
        "\n",
        "**_last_judgment_at:** Fecha y hora del último juicio confiable otorgado a la unidad de datos.\n",
        "\n",
        "**birthplace:** Lugar de nacimiento de la persona mencionada en la fila.\n",
        "\n",
        "**birthplace:confidence:** Nivel de confianza en la información proporcionada sobre el lugar de nacimiento.\n",
        "\n",
        "**date_of_birth:** Fecha de nacimiento de la persona mencionada en la fila.\n",
        "\n",
        "**date_of_birth:confidence:** Nivel de confianza en la información proporcionada sobre la fecha de nacimiento.\n",
        "\n",
        "**race_ethnicity:** Raza o etnia de la persona mencionada en la fila.\n",
        "\n",
        "**race_ethnicity:confidence:** Nivel de confianza en la información proporcionada sobre la raza o etnia.\n",
        "\n",
        "**religion:** Religión de la persona mencionada en la fila.\n",
        "\n",
        "**religion:confidence:** Nivel de confianza en la información proporcionada sobre la religión.\n",
        "\n",
        "**sexual_orientation:** Orientación sexual de la persona mencionada en la fila.\n",
        "\n",
        "**sexual_orientation:**confidence: Nivel de confianza en la información proporcionada sobre la orientación sexual.\n",
        "\n",
        "**year_of_award:** Año en el que se otorgó el premio a la persona mencionada en la fila.\n",
        "\n",
        "**year_of_award:confidence:** Nivel de confianza en la información proporcionada sobre el año del premio.\n",
        "\n",
        "**award:** Premio otorgado a la persona mencionada en la fila.\n",
        "\n",
        "**biourl:** URL de la biografía de la persona mencionada en la fila.\n",
        "\n",
        "**birthplace_gold:** Lugar de nacimiento de referencia o de alta calidad.\n",
        "\n",
        "**date_of_birth_gold:** Fecha de nacimiento de referencia o de alta calidad.\n",
        "\n",
        "**movie:** Película asociada con la persona mencionada en la fila.\n",
        "\n",
        "**person:** Nombre de la persona mencionada en la fila.\n",
        "\n",
        "**race_ethnicity_gold:** Raza o etnia de referencia o de alta calidad.\n",
        "\n",
        "**religion_gold:** Religión de referencia o de alta calidad.\n",
        "\n",
        "**sexual_orientation_gold:** Orientación sexual de referencia o de alta calidad.\n",
        "\n",
        "**year_of_award_gold:** Año del premio de referencia o de alta calidad."
      ],
      "metadata": {
        "id": "lVNyQVwV_AWD"
      }
    },
    {
      "cell_type": "markdown",
      "source": [
        "# **Algunos aspectos clave a considerar:**\n",
        "\n",
        "**Personas y Premios**:\n",
        "El conjunto de datos incluye detalles sobre personas que han recibido premios, como el nombre de la persona (person), la película asociada (movie), el premio otorgado (award), y el año en que se otorgó el premio (year_of_award).\n",
        "\n",
        "\n",
        "**Características Demográficas**:\n",
        "- Lugar de Nacimiento: Se proporciona el lugar de nacimiento (birthplace) de las personas, junto con el nivel de confianza en la información proporcionada (birthplace:confidence).\n",
        "\n",
        "- Fecha de Nacimiento: Se registra la fecha de nacimiento (date_of_birth) de las personas, con su nivel de confianza correspondiente (date_of_birth:confidence).\n",
        "\n",
        "- Raza o Etnia: Se incluye la raza o etnia (race_ethnicity) de las personas, junto con el nivel de confianza en la información (race_ethnicity:confidence).\n",
        "\n",
        "- Religión: La religión (religion) de las personas está registrada, con su nivel de confianza (religion:confidence).\n",
        "\n",
        "- Orientación Sexual: Se proporciona la orientación sexual (sexual_orientation) de las personas, con su nivel de confianza correspondiente (sexual_orientation:confidence).\n",
        "\n",
        "\n",
        "\n",
        "**Calidad de los Datos:**\n",
        "El conjunto de datos incluye información sobre la confianza en los datos anotados, como el número de juicios confiables otorgados (_trusted_judgments) y el nivel de confianza en diversas características demográficas.\n"
      ],
      "metadata": {
        "id": "TSK_S1D3Y7v7"
      }
    },
    {
      "cell_type": "markdown",
      "source": [
        "## **Propuesta**\n",
        "\n",
        "Mediante la exploración, limpieza y transformación de los datos, se buscará encontrar el mejor modelo predictivo que nos permita predecir quiénes podrían ser los próximos ganadores de premios en función de sus perfiles demográficos y otras características."
      ],
      "metadata": {
        "id": "3ZF8y46EZozb"
      }
    },
    {
      "cell_type": "markdown",
      "source": [
        "**Descripción de cada notebook**\n",
        "\n",
        "El proyecto de DataScience se distribuye en los siguientes notebooks:\n",
        "\n",
        "*   **Integración y limpieza**\n",
        "En este notebook está la exploración de la data, gráfico de datos demográficos mas relevantes y limpieza de data que no es relevante para el análisis.\n",
        "\n",
        "*   **Transformación de los datos**\n",
        "En este notebook se detectan y eliminan datos outliers, se identifica y separa la data en variables categóricas y numéricas con el fin de transformar los datos categóricos a numéricos mediante la técnica de Embedding.\n",
        "\n",
        "*   **Modelo de Regresión Logística**\n",
        "Se separan los datos en entrenamiento y prueba, donde el 20% de la data servirá para entrenar al modelo. Luego se aplica PCA para reducir la dimensionalidad del conjunto de dato y luego se entrena al modelo.\n",
        "\n",
        "*   **Modelo de RandomForest**\n",
        "Se separan los datos en entrenamiento y prueba, donde el 20% de la data servirá para entrenar al modelo. Luego se aplica PCA para reducir la dimensionalidad del conjunto de dato y luego se entrena al modelo.\n",
        "\n",
        "*  **Conclusiones y Resultados**\n",
        "Se exponen los resultados del análisis, identicando las limitantes y problemas que se encontraron durante el trabajo.\n",
        "\n",
        "\n",
        "\n",
        "\n",
        "\n",
        "\n",
        "\n"
      ],
      "metadata": {
        "id": "EU7IFLQYEBBP"
      }
    },
    {
      "cell_type": "code",
      "execution_count": null,
      "metadata": {
        "id": "0dFy_-8f-_ZO"
      },
      "outputs": [],
      "source": []
    }
  ]
}