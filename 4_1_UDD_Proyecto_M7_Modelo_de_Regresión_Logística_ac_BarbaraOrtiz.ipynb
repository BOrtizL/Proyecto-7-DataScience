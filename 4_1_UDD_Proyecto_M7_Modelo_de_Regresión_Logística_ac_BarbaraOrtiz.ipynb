{
  "nbformat": 4,
  "nbformat_minor": 0,
  "metadata": {
    "colab": {
      "provenance": [],
      "authorship_tag": "ABX9TyMhKPV8w8KAuD5eWgUi60nU",
      "include_colab_link": true
    },
    "kernelspec": {
      "name": "python3",
      "display_name": "Python 3"
    },
    "language_info": {
      "name": "python"
    }
  },
  "cells": [
    {
      "cell_type": "markdown",
      "metadata": {
        "id": "view-in-github",
        "colab_type": "text"
      },
      "source": [
        "<a href=\"https://colab.research.google.com/github/BOrtizL/Proyecto-7-DataScience/blob/main/4_1_UDD_Proyecto_M7_Modelo_de_Regresi%C3%B3n_Log%C3%ADstica_ac_BarbaraOrtiz.ipynb\" target=\"_parent\"><img src=\"https://colab.research.google.com/assets/colab-badge.svg\" alt=\"Open In Colab\"/></a>"
      ]
    },
    {
      "cell_type": "markdown",
      "source": [
        "En este notebook aplicaremos Machine Learning, donde se aplicará Refresión logística para los datos de alta confianza."
      ],
      "metadata": {
        "id": "dvLgDhw4M4lo"
      }
    },
    {
      "cell_type": "code",
      "source": [
        "from google.colab import drive\n",
        "drive.mount('/content/drive')"
      ],
      "metadata": {
        "colab": {
          "base_uri": "https://localhost:8080/"
        },
        "id": "uFAQ0z0WNvEB",
        "outputId": "48256851-3253-45cc-8bf6-0aceee93eb54"
      },
      "execution_count": 41,
      "outputs": [
        {
          "output_type": "stream",
          "name": "stdout",
          "text": [
            "Drive already mounted at /content/drive; to attempt to forcibly remount, call drive.mount(\"/content/drive\", force_remount=True).\n"
          ]
        }
      ]
    },
    {
      "cell_type": "code",
      "execution_count": 42,
      "metadata": {
        "id": "K0TdbW7U_zug"
      },
      "outputs": [],
      "source": [
        "import pickle\n",
        "import pandas as pd\n",
        "import numpy as np\n",
        "\n",
        "from sklearn.model_selection import train_test_split, cross_val_score\n",
        "from sklearn.metrics import confusion_matrix, accuracy_score\n",
        "from sklearn.metrics import mean_squared_error, r2_score\n",
        "from sklearn.preprocessing import StandardScaler\n",
        "from sklearn.linear_model import LogisticRegression\n",
        "from sklearn.metrics import accuracy_score, classification_report\n",
        "from sklearn.decomposition import PCA\n",
        "from statsmodels.stats.outliers_influence import variance_inflation_factor\n",
        "import matplotlib.pyplot as plt\n"
      ]
    },
    {
      "cell_type": "markdown",
      "source": [
        "**Cargar los datos de alta confianza transformados**"
      ],
      "metadata": {
        "id": "V16HiISI509X"
      }
    },
    {
      "cell_type": "code",
      "source": [
        "# Ruta del archivo original en Google Drive\n",
        "ruta_archivo_drive = \"/content/drive/My Drive/Proyecto 7/raw/df_concatenado_alta_confianza.pkl\"\n",
        "\n",
        "# Cargar el DataFrame desde el archivo\n",
        "with open(ruta_archivo_drive, 'rb') as f:\n",
        "    df_concatenado_alta_confianza = pickle.load(f)"
      ],
      "metadata": {
        "id": "5Z8BUJvS-rEQ"
      },
      "execution_count": 43,
      "outputs": []
    },
    {
      "cell_type": "code",
      "source": [
        "# Paso 1: Separar las características y la etiqueta\n",
        "X = df_concatenado_alta_confianza.drop('gender', axis=1)\n",
        "y = df_concatenado_alta_confianza['gender']"
      ],
      "metadata": {
        "id": "sdbT_EbnLN_n"
      },
      "execution_count": 44,
      "outputs": []
    },
    {
      "cell_type": "markdown",
      "source": [
        "**Observación:**\n",
        "La variable objetivo será predecir que genero ganará un oscar."
      ],
      "metadata": {
        "id": "0rxDGZU6u3UZ"
      }
    },
    {
      "cell_type": "code",
      "source": [
        "# Paso 2: Dividir los datos en conjuntos de entrenamiento y prueba\n",
        "X_train, X_test, y_train, y_test = train_test_split(X, y, test_size=0.2, random_state=42)\n",
        "\n"
      ],
      "metadata": {
        "id": "mFwaBfKXzjtH"
      },
      "execution_count": 45,
      "outputs": []
    },
    {
      "cell_type": "markdown",
      "source": [
        "A continuación, aplicaremos **PCA** sólo en el conjunto de entrenamiento y utilizará los parámetros aprendidos para transformar el conjunto de prueba.\n",
        "\n",
        "Los datos se dividen en conjuntos de entrenamiento y prueba antes de aplicar PCA para evitar el data leakage.\n",
        "\n",
        "Es recomendable escalar los datos antes de aplicar PCA para asegurar que todas las características contribuyan equitativamente.\n",
        "Este enfoque garantiza que el modelo se entrene y evalúe de manera adecuada y que los resultados sean representativos del rendimiento real del modelo en datos no vistos.\n",
        "\n",
        "\n",
        "\n",
        "\n",
        "\n"
      ],
      "metadata": {
        "id": "txcBQ6I1i2gG"
      }
    },
    {
      "cell_type": "code",
      "source": [
        "# Paso 3: Preprocesamiento - Escalado de características\n",
        "scaler = StandardScaler()\n",
        "X_train_scaled = scaler.fit_transform(X_train)\n",
        "X_test_scaled = scaler.transform(X_test)\n",
        "\n",
        "\n",
        "# Aplicar PCA sin especificar el número de componentes\n",
        "pca = PCA()\n",
        "pca.fit(X_train_scaled)\n"
      ],
      "metadata": {
        "colab": {
          "base_uri": "https://localhost:8080/",
          "height": 74
        },
        "id": "NzW4LOjwiynX",
        "outputId": "8fe404c4-4771-4c3f-8cc3-a918c7bee19d"
      },
      "execution_count": 46,
      "outputs": [
        {
          "output_type": "execute_result",
          "data": {
            "text/plain": [
              "PCA()"
            ],
            "text/html": [
              "<style>#sk-container-id-4 {color: black;background-color: white;}#sk-container-id-4 pre{padding: 0;}#sk-container-id-4 div.sk-toggleable {background-color: white;}#sk-container-id-4 label.sk-toggleable__label {cursor: pointer;display: block;width: 100%;margin-bottom: 0;padding: 0.3em;box-sizing: border-box;text-align: center;}#sk-container-id-4 label.sk-toggleable__label-arrow:before {content: \"▸\";float: left;margin-right: 0.25em;color: #696969;}#sk-container-id-4 label.sk-toggleable__label-arrow:hover:before {color: black;}#sk-container-id-4 div.sk-estimator:hover label.sk-toggleable__label-arrow:before {color: black;}#sk-container-id-4 div.sk-toggleable__content {max-height: 0;max-width: 0;overflow: hidden;text-align: left;background-color: #f0f8ff;}#sk-container-id-4 div.sk-toggleable__content pre {margin: 0.2em;color: black;border-radius: 0.25em;background-color: #f0f8ff;}#sk-container-id-4 input.sk-toggleable__control:checked~div.sk-toggleable__content {max-height: 200px;max-width: 100%;overflow: auto;}#sk-container-id-4 input.sk-toggleable__control:checked~label.sk-toggleable__label-arrow:before {content: \"▾\";}#sk-container-id-4 div.sk-estimator input.sk-toggleable__control:checked~label.sk-toggleable__label {background-color: #d4ebff;}#sk-container-id-4 div.sk-label input.sk-toggleable__control:checked~label.sk-toggleable__label {background-color: #d4ebff;}#sk-container-id-4 input.sk-hidden--visually {border: 0;clip: rect(1px 1px 1px 1px);clip: rect(1px, 1px, 1px, 1px);height: 1px;margin: -1px;overflow: hidden;padding: 0;position: absolute;width: 1px;}#sk-container-id-4 div.sk-estimator {font-family: monospace;background-color: #f0f8ff;border: 1px dotted black;border-radius: 0.25em;box-sizing: border-box;margin-bottom: 0.5em;}#sk-container-id-4 div.sk-estimator:hover {background-color: #d4ebff;}#sk-container-id-4 div.sk-parallel-item::after {content: \"\";width: 100%;border-bottom: 1px solid gray;flex-grow: 1;}#sk-container-id-4 div.sk-label:hover label.sk-toggleable__label {background-color: #d4ebff;}#sk-container-id-4 div.sk-serial::before {content: \"\";position: absolute;border-left: 1px solid gray;box-sizing: border-box;top: 0;bottom: 0;left: 50%;z-index: 0;}#sk-container-id-4 div.sk-serial {display: flex;flex-direction: column;align-items: center;background-color: white;padding-right: 0.2em;padding-left: 0.2em;position: relative;}#sk-container-id-4 div.sk-item {position: relative;z-index: 1;}#sk-container-id-4 div.sk-parallel {display: flex;align-items: stretch;justify-content: center;background-color: white;position: relative;}#sk-container-id-4 div.sk-item::before, #sk-container-id-4 div.sk-parallel-item::before {content: \"\";position: absolute;border-left: 1px solid gray;box-sizing: border-box;top: 0;bottom: 0;left: 50%;z-index: -1;}#sk-container-id-4 div.sk-parallel-item {display: flex;flex-direction: column;z-index: 1;position: relative;background-color: white;}#sk-container-id-4 div.sk-parallel-item:first-child::after {align-self: flex-end;width: 50%;}#sk-container-id-4 div.sk-parallel-item:last-child::after {align-self: flex-start;width: 50%;}#sk-container-id-4 div.sk-parallel-item:only-child::after {width: 0;}#sk-container-id-4 div.sk-dashed-wrapped {border: 1px dashed gray;margin: 0 0.4em 0.5em 0.4em;box-sizing: border-box;padding-bottom: 0.4em;background-color: white;}#sk-container-id-4 div.sk-label label {font-family: monospace;font-weight: bold;display: inline-block;line-height: 1.2em;}#sk-container-id-4 div.sk-label-container {text-align: center;}#sk-container-id-4 div.sk-container {/* jupyter's `normalize.less` sets `[hidden] { display: none; }` but bootstrap.min.css set `[hidden] { display: none !important; }` so we also need the `!important` here to be able to override the default hidden behavior on the sphinx rendered scikit-learn.org. See: https://github.com/scikit-learn/scikit-learn/issues/21755 */display: inline-block !important;position: relative;}#sk-container-id-4 div.sk-text-repr-fallback {display: none;}</style><div id=\"sk-container-id-4\" class=\"sk-top-container\"><div class=\"sk-text-repr-fallback\"><pre>PCA()</pre><b>In a Jupyter environment, please rerun this cell to show the HTML representation or trust the notebook. <br />On GitHub, the HTML representation is unable to render, please try loading this page with nbviewer.org.</b></div><div class=\"sk-container\" hidden><div class=\"sk-item\"><div class=\"sk-estimator sk-toggleable\"><input class=\"sk-toggleable__control sk-hidden--visually\" id=\"sk-estimator-id-4\" type=\"checkbox\" checked><label for=\"sk-estimator-id-4\" class=\"sk-toggleable__label sk-toggleable__label-arrow\">PCA</label><div class=\"sk-toggleable__content\"><pre>PCA()</pre></div></div></div></div></div>"
            ]
          },
          "metadata": {},
          "execution_count": 46
        }
      ]
    },
    {
      "cell_type": "code",
      "source": [
        "# Paso 4: Varianza explicada por cada componente\n",
        "explained_variance_ratio_ac = pca.explained_variance_ratio_\n",
        "\n",
        "# Calcular el número de componentes principales\n",
        "n_components = len(explained_variance_ratio_ac)\n",
        "\n",
        "# Crear un gráfico de codo\n",
        "cumulative_variance = np.cumsum(explained_variance_ratio_ac)\n",
        "plt.plot(range(1, n_components + 1), cumulative_variance, marker='o', linestyle='-')\n",
        "plt.xlabel('Número de Componentes Principales')\n",
        "plt.ylabel('Varianza Explicada')\n",
        "plt.title('Gráfico de Codo para PCA')\n",
        "plt.grid(True)\n",
        "plt.show()"
      ],
      "metadata": {
        "colab": {
          "base_uri": "https://localhost:8080/",
          "height": 473
        },
        "id": "Kpzo7ag_kvc7",
        "outputId": "3aac7bfd-1493-44d5-fd64-cc207b4a4747"
      },
      "execution_count": 47,
      "outputs": [
        {
          "output_type": "display_data",
          "data": {
            "text/plain": [
              "<Figure size 640x480 with 1 Axes>"
            ],
            "image/png": "[encoded data removed]"
          },
          "metadata": {}
        }
      ]
    },
    {
      "cell_type": "markdown",
      "source": [
        "**El gráfico de codo** es una herramienta útil para determinar el número óptimo de componentes principales a retener en un análisis.\n",
        "Según la gráfica, el punto en el que la curva forma un codo es en el punto **7**, lo que indica que agregar más componentes principales ya no proporciona una ganancia significativa en términos de varianza explicada.\n",
        "Como conslusión, **la cantidad óptima es 7**"
      ],
      "metadata": {
        "id": "xCm1xOfjoe2l"
      }
    },
    {
      "cell_type": "code",
      "source": [
        "# Análisis de componentes principales\n",
        "print(\"Varianza explicada por cada componente:\", pca.explained_variance_ratio_)"
      ],
      "metadata": {
        "colab": {
          "base_uri": "https://localhost:8080/"
        },
        "id": "oQsOaDfqqjh7",
        "outputId": "c6076eef-bdd6-4f4b-aca7-74070d2ae230"
      },
      "execution_count": 48,
      "outputs": [
        {
          "output_type": "stream",
          "name": "stdout",
          "text": [
            "Varianza explicada por cada componente: [2.91129858e-01 1.98023447e-01 1.60996976e-01 1.30505212e-01\n",
            " 1.08973180e-01 6.69444242e-02 4.34269023e-02 1.08230647e-33]\n"
          ]
        }
      ]
    },
    {
      "cell_type": "markdown",
      "source": [
        "\n",
        "Para cada componente principal, el valor indicado es la proporción de la varianza total de los datos que es explicada por ese componente en particular.\n",
        "\n",
        "Para este caso, los valores representan la varianza explicada por cada uno de los primeros 7 componentes principales, en orden descendente de importancia.\n",
        "\n",
        "Esto es útil para entender cuánta información de los datos originales está capturada por cada componente principal. En general, se prefiere retener los componentes principales que explican la mayor parte de la varianza en los datos, mientras se reduce la dimensionalidad"
      ],
      "metadata": {
        "id": "SwGFHtvXqa-7"
      }
    },
    {
      "cell_type": "code",
      "source": [
        "# Paso 4: Aplicar PCA en el conjunto de entrenamiento\n",
        "pca = PCA(n_components=7)  # Número óptimo de componentes\n",
        "X_train_pca = pca.fit_transform(X_train_scaled)\n",
        "X_test_pca = pca.transform(X_test_scaled)"
      ],
      "metadata": {
        "id": "5yQkd8eCkzQt"
      },
      "execution_count": 49,
      "outputs": []
    },
    {
      "cell_type": "code",
      "source": [
        "# Paso 5: Entrenar el modelo con los datos transformados por PCA\n",
        "model = LogisticRegression()\n",
        "model.fit(X_train_pca, y_train)\n",
        "\n",
        "# Paso 6: Evaluar el modelo\n",
        "y_pred = model.predict(X_test_pca)\n",
        "accuracy = accuracy_score(y_test, y_pred)\n",
        "print(f'Accuracy: {accuracy}')\n",
        "\n",
        "print(classification_report(y_test, y_pred))\n",
        "\n",
        "# Calcular la matriz de confusión\n",
        "conf_matrix = confusion_matrix(y_test, y_pred)\n",
        "print(conf_matrix)"
      ],
      "metadata": {
        "colab": {
          "base_uri": "https://localhost:8080/"
        },
        "id": "G0BDZB3Oj9bX",
        "outputId": "65867490-800f-489b-999e-7f579dfd6d90"
      },
      "execution_count": 50,
      "outputs": [
        {
          "output_type": "stream",
          "name": "stdout",
          "text": [
            "Accuracy: 1.0\n",
            "              precision    recall  f1-score   support\n",
            "\n",
            "           1       1.00      1.00      1.00         3\n",
            "           2       1.00      1.00      1.00         2\n",
            "\n",
            "    accuracy                           1.00         5\n",
            "   macro avg       1.00      1.00      1.00         5\n",
            "weighted avg       1.00      1.00      1.00         5\n",
            "\n",
            "[[3 0]\n",
            " [0 2]]\n"
          ]
        }
      ]
    },
    {
      "cell_type": "markdown",
      "source": [
        "**Observación:**\n",
        "El modelo de Regresión Logística tiene una precisión del 100%. Esto significa que el modelo tiene un excelente resultado de precisión.\n",
        "\n",
        "A continuaación está la interpretación de las métricas:\n",
        "\n",
        "- Precision: Ambas clases tienen una precisión de 1.00, lo que significa que todas las predicciones para ambas clases son correctas.\n",
        "\n",
        "- Recall: Igualmente, ambas clases tienen un recall de 1.00, lo que indica que el modelo identificó correctamente todas las instancias de ambas clases.\n",
        "\n",
        "- F1-score: Para ambas clases, el F1-score es 1.00, lo que indica un equilibrio perfecto entre precision y recall.\n",
        "\n",
        "- Accuracy: La precisión global del modelo es del 100%, lo que significa que todas las predicciones son correctas.\n",
        "\n",
        "Esto sugiere que el modelo está prediciendo perfectamente en este conjunto de datos. La matriz de confusión también debería mostrar que todas las predicciones son correctas.\n",
        "\n",
        "\n",
        "La matriz de confusión que proporcionaste confirma que el modelo predijo perfectamente en este conjunto de datos:\n",
        "\n",
        "Para la Clase 1 (1), el modelo hizo 3 predicciones correctas.\n",
        "Para la Clase 2 (2), el modelo también hizo 2 predicciones correctas.\n",
        "\n",
        "No hay falsos positivos ni falsos negativos."
      ],
      "metadata": {
        "id": "OlFG_eeWoGuP"
      }
    },
    {
      "cell_type": "code",
      "source": [],
      "metadata": {
        "id": "50VOxTcUuhVq"
      },
      "execution_count": 50,
      "outputs": []
    }
  ]
}