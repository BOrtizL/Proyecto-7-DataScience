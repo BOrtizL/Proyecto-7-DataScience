{
  "nbformat": 4,
  "nbformat_minor": 0,
  "metadata": {
    "colab": {
      "provenance": [],
      "authorship_tag": "ABX9TyMerTMBfNZnS2VJvURd/RPQ",
      "include_colab_link": true
    },
    "kernelspec": {
      "name": "python3",
      "display_name": "Python 3"
    },
    "language_info": {
      "name": "python"
    }
  },
  "cells": [
    {
      "cell_type": "markdown",
      "metadata": {
        "id": "view-in-github",
        "colab_type": "text"
      },
      "source": [
        "<a href=\"https://colab.research.google.com/github/BOrtizL/Proyecto-7-DataScience/blob/main/4_2_1_UDD_Proyecto_M7_Modelo_de_RandomForest_bc_BarbaraOrtiz.ipynb\" target=\"_parent\"><img src=\"https://colab.research.google.com/assets/colab-badge.svg\" alt=\"Open In Colab\"/></a>"
      ]
    },
    {
      "cell_type": "markdown",
      "source": [
        "En este notebook aplicarmos el modelo de RandomForest en la data de baja confianza para tener una coparación de su rendimiento."
      ],
      "metadata": {
        "id": "iXwYaXKRxXJe"
      }
    },
    {
      "cell_type": "code",
      "execution_count": 1,
      "metadata": {
        "colab": {
          "base_uri": "https://localhost:8080/"
        },
        "id": "ysEGPx5rw6zy",
        "outputId": "2df14422-8e67-41db-8832-5e94a9cf4188"
      },
      "outputs": [
        {
          "output_type": "stream",
          "name": "stdout",
          "text": [
            "Mounted at /content/drive\n"
          ]
        }
      ],
      "source": [
        "from google.colab import drive\n",
        "drive.mount('/content/drive')"
      ]
    },
    {
      "cell_type": "code",
      "source": [
        "import pickle\n",
        "import pandas as pd\n",
        "import numpy as np\n",
        "\n",
        "from sklearn.model_selection import train_test_split, cross_val_score\n",
        "from sklearn.metrics import confusion_matrix, accuracy_score\n",
        "from sklearn.preprocessing import StandardScaler\n",
        "from sklearn.ensemble import RandomForestClassifier\n",
        "from sklearn.metrics import accuracy_score, classification_report\n",
        "from sklearn.decomposition import PCA\n",
        "from statsmodels.stats.outliers_influence import variance_inflation_factor\n",
        "import matplotlib.pyplot as plt"
      ],
      "metadata": {
        "id": "-PJLBXi1xcww"
      },
      "execution_count": 2,
      "outputs": []
    },
    {
      "cell_type": "markdown",
      "source": [
        "**Cargar los datos de baja confianza transformados**"
      ],
      "metadata": {
        "id": "RKWuuvwcxhZH"
      }
    },
    {
      "cell_type": "code",
      "source": [
        "# Ruta del archivo original en Google Drive\n",
        "ruta_archivo_drive = \"/content/drive/My Drive/Proyecto 7/raw/df_concatenado_baja_confianza.pickle\"\n",
        "\n",
        "# Cargar el DataFrame desde el archivo\n",
        "with open(ruta_archivo_drive, 'rb') as f:\n",
        "    df_concatenado_baja_confianza = pickle.load(f)"
      ],
      "metadata": {
        "id": "BIlrupWKxikY"
      },
      "execution_count": 3,
      "outputs": []
    },
    {
      "cell_type": "code",
      "source": [
        "# Paso 1: Separar las características y la etiqueta\n",
        "X = df_concatenado_baja_confianza.drop('gender', axis=1)\n",
        "y = df_concatenado_baja_confianza['gender']"
      ],
      "metadata": {
        "id": "BAmSCX51xuPK"
      },
      "execution_count": 4,
      "outputs": []
    },
    {
      "cell_type": "code",
      "source": [
        "# Paso 2: Dividir los datos en conjuntos de entrenamiento y prueba\n",
        "X_train, X_test, y_train, y_test = train_test_split(X, y, test_size=0.2, random_state=42)"
      ],
      "metadata": {
        "id": "hqIIKykCxxHK"
      },
      "execution_count": 5,
      "outputs": []
    },
    {
      "cell_type": "code",
      "source": [
        "# Paso 3: Preprocesamiento - Escalado de características\n",
        "scaler = StandardScaler()\n",
        "X_train_scaled = scaler.fit_transform(X_train)\n",
        "X_test_scaled = scaler.transform(X_test)\n",
        "\n",
        "\n",
        "# Paso 4: Aplicar PCA en el conjunto de entrenamiento\n",
        "pca = PCA(n_components=7)  # Número óptimo de componentes\n",
        "X_train_pca = pca.fit_transform(X_train_scaled)\n",
        "X_test_pca = pca.transform(X_test_scaled)"
      ],
      "metadata": {
        "id": "AlQ1-l37x5C7"
      },
      "execution_count": 6,
      "outputs": []
    },
    {
      "cell_type": "code",
      "source": [
        "# Paso 5: Crear y entrenar el modelo RandomForest\n",
        "rf_model = RandomForestClassifier(random_state=42)\n",
        "rf_model.fit(X_train_pca, y_train)\n",
        "\n",
        "# Paso 6: Predecir en el conjunto de prueba\n",
        "y_pred = rf_model.predict(X_test_pca)\n",
        "\n",
        "# Paso 7: Evaluar el modelo\n",
        "print(classification_report(y_test, y_pred))\n",
        "\n",
        "# Calcular la matriz de confusión\n",
        "conf_matrix = confusion_matrix(y_test, y_pred)\n",
        "print(conf_matrix)"
      ],
      "metadata": {
        "colab": {
          "base_uri": "https://localhost:8080/"
        },
        "id": "Ba6ItC_eyAJc",
        "outputId": "d0f0c605-1684-490d-8ce1-34319d5b01e3"
      },
      "execution_count": 7,
      "outputs": [
        {
          "output_type": "stream",
          "name": "stdout",
          "text": [
            "              precision    recall  f1-score   support\n",
            "\n",
            "           1       0.95      0.95      0.95        57\n",
            "           2       0.88      0.88      0.88        26\n",
            "\n",
            "    accuracy                           0.93        83\n",
            "   macro avg       0.92      0.92      0.92        83\n",
            "weighted avg       0.93      0.93      0.93        83\n",
            "\n",
            "[[54  3]\n",
            " [ 3 23]]\n"
          ]
        }
      ]
    },
    {
      "cell_type": "markdown",
      "source": [
        "**Observación:**\n",
        "\n",
        "El modelo tiene un 93% de precisión, lo que significa que tienen un buen desempeño.\n",
        "\n",
        "A continuación la interpretación de las métricas de clasificación:\n",
        "\n",
        "- Precision:\n",
        "Para la Clase 1, la precisión es del 95%, lo que significa que el 95% de las predicciones para la Clase 1 fueron correctas.\n",
        "Para la Clase 2, la precisión es del 88%, lo que indica que el 88% de las predicciones para la Clase 2 fueron correctas.\n",
        "\n",
        "- Recall:\n",
        "Para la Clase 1, el recall es del 95%, lo que significa que el 95% de las muestras de la Clase 1 fueron identificadas correctamente.\n",
        "Para la Clase 2, el recall es del 88%, lo que indica que el 88% de las muestras de la Clase 2 fueron identificadas correctamente.\n",
        "\n",
        "- F1-score:\n",
        "Para la Clase 1, el F1-score es del 95%.\n",
        "Para la Clase 2, el F1-score es del 88%.\n",
        "\n",
        "- Accuracy: La precisión global del modelo es del 93%, lo que significa que el 93% de las muestras fueron clasificadas correctamente.\n",
        "\n",
        "- Matriz de Confusión:\n",
        "El modelo clasificó correctamente 54 muestras de la Clase 1 y 23 muestras de la Clase 2.\n",
        "Clasificó erróneamente 3 muestras de la Clase 1 y 3 muestras de la Clase 2.\n",
        "\n",
        "En resumen, el modelo parece tener un buen rendimiento, con altas precisiones, recalls y un buen F1-score para ambas clases, así como una alta precisión global del 93%."
      ],
      "metadata": {
        "id": "ot9XTU9AyUIh"
      }
    },
    {
      "cell_type": "markdown",
      "source": [
        "# **Conclusión:**"
      ],
      "metadata": {
        "id": "zUTo6rBKy_L5"
      }
    },
    {
      "cell_type": "markdown",
      "source": [
        "Ahora que tenemos el resultado de desempeño de ambos modelos, es el modelo de Regresión Logistica quien tiene un mejor performance (accuracy de 95% v/s 93%) y es el modelo que se sugiere avanzar en este proyecto."
      ],
      "metadata": {
        "id": "Wvc09TaqzFzY"
      }
    },
    {
      "cell_type": "code",
      "source": [],
      "metadata": {
        "id": "sOQkSDj9y-JZ"
      },
      "execution_count": null,
      "outputs": []
    }
  ]
}