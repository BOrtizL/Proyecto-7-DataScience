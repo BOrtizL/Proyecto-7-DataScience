{
  "nbformat": 4,
  "nbformat_minor": 0,
  "metadata": {
    "colab": {
      "provenance": [],
      "authorship_tag": "ABX9TyNLIs5A8aoDByGZlQ4an5rZ",
      "include_colab_link": true
    },
    "kernelspec": {
      "name": "python3",
      "display_name": "Python 3"
    },
    "language_info": {
      "name": "python"
    }
  },
  "cells": [
    {
      "cell_type": "markdown",
      "metadata": {
        "id": "view-in-github",
        "colab_type": "text"
      },
      "source": [
        "<a href=\"https://colab.research.google.com/github/BOrtizL/Proyecto-7-DataScience/blob/main/4_2_UDD_Proyecto_M7_Modelo_de_Regresi%C3%B3n_Log%C3%ADstica_bc_BarbaraOrtiz.ipynb\" target=\"_parent\"><img src=\"https://colab.research.google.com/assets/colab-badge.svg\" alt=\"Open In Colab\"/></a>"
      ]
    },
    {
      "cell_type": "code",
      "execution_count": 1,
      "metadata": {
        "colab": {
          "base_uri": "https://localhost:8080/"
        },
        "id": "ovkFMQsf2Rop",
        "outputId": "14db0a13-f079-4125-f1c1-12baf549770d"
      },
      "outputs": [
        {
          "output_type": "stream",
          "name": "stdout",
          "text": [
            "Mounted at /content/drive\n"
          ]
        }
      ],
      "source": [
        "from google.colab import drive\n",
        "drive.mount('/content/drive')"
      ]
    },
    {
      "cell_type": "code",
      "source": [
        "import pickle\n",
        "import pandas as pd\n",
        "import numpy as np\n",
        "\n",
        "from sklearn.model_selection import train_test_split, cross_val_score\n",
        "from sklearn.metrics import confusion_matrix, accuracy_score\n",
        "from sklearn.metrics import mean_squared_error, r2_score\n",
        "from sklearn.preprocessing import StandardScaler\n",
        "from sklearn.ensemble import RandomForestClassifier\n",
        "from sklearn.linear_model import LogisticRegression\n",
        "from sklearn.metrics import accuracy_score, classification_report\n",
        "from sklearn.decomposition import PCA\n",
        "from statsmodels.stats.outliers_influence import variance_inflation_factor\n",
        "import matplotlib.pyplot as plt"
      ],
      "metadata": {
        "id": "kBtp4xdO2UJD"
      },
      "execution_count": 2,
      "outputs": []
    },
    {
      "cell_type": "markdown",
      "source": [
        "**Cargar los datos de baja confianza transformados**"
      ],
      "metadata": {
        "id": "PkXRbF8p2eph"
      }
    },
    {
      "cell_type": "code",
      "source": [
        "# Ruta del archivo original en Google Drive\n",
        "ruta_archivo_drive = \"/content/drive/My Drive/Proyecto 7/raw/df_concatenado_baja_confianza.pickle\"\n",
        "\n",
        "# Cargar el DataFrame desde el archivo\n",
        "with open(ruta_archivo_drive, 'rb') as f:\n",
        "    df_concatenado_baja_confianza = pickle.load(f)"
      ],
      "metadata": {
        "id": "HNDctWgA2fYA"
      },
      "execution_count": 3,
      "outputs": []
    },
    {
      "cell_type": "code",
      "source": [
        "# Paso 1: Separar las características y la etiqueta\n",
        "X = df_concatenado_baja_confianza.drop('gender', axis=1)\n",
        "y = df_concatenado_baja_confianza['gender']"
      ],
      "metadata": {
        "id": "8yLBUYyB2i3Q"
      },
      "execution_count": 4,
      "outputs": []
    },
    {
      "cell_type": "markdown",
      "source": [
        "**Observación:**\n",
        "La variable objetivo será predecir el género de quién ganará un oscar."
      ],
      "metadata": {
        "id": "sd3OcBFg47le"
      }
    },
    {
      "cell_type": "code",
      "source": [
        "# Paso 2: Dividir los datos en conjuntos de entrenamiento y prueba\n",
        "X_train, X_test, y_train, y_test = train_test_split(X, y, test_size=0.2, random_state=42)"
      ],
      "metadata": {
        "id": "wMxeFAks2oVH"
      },
      "execution_count": 5,
      "outputs": []
    },
    {
      "cell_type": "code",
      "source": [
        "# Paso 3: Preprocesamiento - Escalado de características\n",
        "scaler = StandardScaler()\n",
        "X_train_scaled = scaler.fit_transform(X_train)\n",
        "X_test_scaled = scaler.transform(X_test)\n",
        "\n",
        "\n",
        "# Aplicar PCA sin especificar el número de componentes\n",
        "pca = PCA()\n",
        "pca.fit(X_train_scaled)"
      ],
      "metadata": {
        "colab": {
          "base_uri": "https://localhost:8080/",
          "height": 74
        },
        "id": "QMCUeKr72vn0",
        "outputId": "1d5db1b7-7e41-44da-c808-67777595bc97"
      },
      "execution_count": 6,
      "outputs": [
        {
          "output_type": "execute_result",
          "data": {
            "text/plain": [
              "PCA()"
            ],
            "text/html": [
              "<style>#sk-container-id-1 {color: black;background-color: white;}#sk-container-id-1 pre{padding: 0;}#sk-container-id-1 div.sk-toggleable {background-color: white;}#sk-container-id-1 label.sk-toggleable__label {cursor: pointer;display: block;width: 100%;margin-bottom: 0;padding: 0.3em;box-sizing: border-box;text-align: center;}#sk-container-id-1 label.sk-toggleable__label-arrow:before {content: \"▸\";float: left;margin-right: 0.25em;color: #696969;}#sk-container-id-1 label.sk-toggleable__label-arrow:hover:before {color: black;}#sk-container-id-1 div.sk-estimator:hover label.sk-toggleable__label-arrow:before {color: black;}#sk-container-id-1 div.sk-toggleable__content {max-height: 0;max-width: 0;overflow: hidden;text-align: left;background-color: #f0f8ff;}#sk-container-id-1 div.sk-toggleable__content pre {margin: 0.2em;color: black;border-radius: 0.25em;background-color: #f0f8ff;}#sk-container-id-1 input.sk-toggleable__control:checked~div.sk-toggleable__content {max-height: 200px;max-width: 100%;overflow: auto;}#sk-container-id-1 input.sk-toggleable__control:checked~label.sk-toggleable__label-arrow:before {content: \"▾\";}#sk-container-id-1 div.sk-estimator input.sk-toggleable__control:checked~label.sk-toggleable__label {background-color: #d4ebff;}#sk-container-id-1 div.sk-label input.sk-toggleable__control:checked~label.sk-toggleable__label {background-color: #d4ebff;}#sk-container-id-1 input.sk-hidden--visually {border: 0;clip: rect(1px 1px 1px 1px);clip: rect(1px, 1px, 1px, 1px);height: 1px;margin: -1px;overflow: hidden;padding: 0;position: absolute;width: 1px;}#sk-container-id-1 div.sk-estimator {font-family: monospace;background-color: #f0f8ff;border: 1px dotted black;border-radius: 0.25em;box-sizing: border-box;margin-bottom: 0.5em;}#sk-container-id-1 div.sk-estimator:hover {background-color: #d4ebff;}#sk-container-id-1 div.sk-parallel-item::after {content: \"\";width: 100%;border-bottom: 1px solid gray;flex-grow: 1;}#sk-container-id-1 div.sk-label:hover label.sk-toggleable__label {background-color: #d4ebff;}#sk-container-id-1 div.sk-serial::before {content: \"\";position: absolute;border-left: 1px solid gray;box-sizing: border-box;top: 0;bottom: 0;left: 50%;z-index: 0;}#sk-container-id-1 div.sk-serial {display: flex;flex-direction: column;align-items: center;background-color: white;padding-right: 0.2em;padding-left: 0.2em;position: relative;}#sk-container-id-1 div.sk-item {position: relative;z-index: 1;}#sk-container-id-1 div.sk-parallel {display: flex;align-items: stretch;justify-content: center;background-color: white;position: relative;}#sk-container-id-1 div.sk-item::before, #sk-container-id-1 div.sk-parallel-item::before {content: \"\";position: absolute;border-left: 1px solid gray;box-sizing: border-box;top: 0;bottom: 0;left: 50%;z-index: -1;}#sk-container-id-1 div.sk-parallel-item {display: flex;flex-direction: column;z-index: 1;position: relative;background-color: white;}#sk-container-id-1 div.sk-parallel-item:first-child::after {align-self: flex-end;width: 50%;}#sk-container-id-1 div.sk-parallel-item:last-child::after {align-self: flex-start;width: 50%;}#sk-container-id-1 div.sk-parallel-item:only-child::after {width: 0;}#sk-container-id-1 div.sk-dashed-wrapped {border: 1px dashed gray;margin: 0 0.4em 0.5em 0.4em;box-sizing: border-box;padding-bottom: 0.4em;background-color: white;}#sk-container-id-1 div.sk-label label {font-family: monospace;font-weight: bold;display: inline-block;line-height: 1.2em;}#sk-container-id-1 div.sk-label-container {text-align: center;}#sk-container-id-1 div.sk-container {/* jupyter's `normalize.less` sets `[hidden] { display: none; }` but bootstrap.min.css set `[hidden] { display: none !important; }` so we also need the `!important` here to be able to override the default hidden behavior on the sphinx rendered scikit-learn.org. See: https://github.com/scikit-learn/scikit-learn/issues/21755 */display: inline-block !important;position: relative;}#sk-container-id-1 div.sk-text-repr-fallback {display: none;}</style><div id=\"sk-container-id-1\" class=\"sk-top-container\"><div class=\"sk-text-repr-fallback\"><pre>PCA()</pre><b>In a Jupyter environment, please rerun this cell to show the HTML representation or trust the notebook. <br />On GitHub, the HTML representation is unable to render, please try loading this page with nbviewer.org.</b></div><div class=\"sk-container\" hidden><div class=\"sk-item\"><div class=\"sk-estimator sk-toggleable\"><input class=\"sk-toggleable__control sk-hidden--visually\" id=\"sk-estimator-id-1\" type=\"checkbox\" checked><label for=\"sk-estimator-id-1\" class=\"sk-toggleable__label sk-toggleable__label-arrow\">PCA</label><div class=\"sk-toggleable__content\"><pre>PCA()</pre></div></div></div></div></div>"
            ]
          },
          "metadata": {},
          "execution_count": 6
        }
      ]
    },
    {
      "cell_type": "code",
      "source": [
        "# Paso 4: Varianza explicada por cada componente\n",
        "explained_variance_ratio_bc = pca.explained_variance_ratio_\n",
        "\n",
        "# Calcular el número de componentes principales\n",
        "n_components1 = len(explained_variance_ratio_bc)\n",
        "\n",
        "# Crear un gráfico de codo\n",
        "cumulative_variance1 = np.cumsum(explained_variance_ratio_bc)\n",
        "plt.plot(range(1, n_components1 + 1), cumulative_variance1, marker='o', linestyle='-')\n",
        "plt.xlabel('Número de Componentes Principales')\n",
        "plt.ylabel('Varianza Explicada')\n",
        "plt.title('Gráfico de Codo para PCA')\n",
        "plt.grid(True)\n",
        "plt.show()"
      ],
      "metadata": {
        "colab": {
          "base_uri": "https://localhost:8080/",
          "height": 473
        },
        "id": "shQTtrMM20Rg",
        "outputId": "49a52354-a83b-4800-b1f4-c706c88ae2c3"
      },
      "execution_count": 7,
      "outputs": [
        {
          "output_type": "display_data",
          "data": {
            "text/plain": [
              "<Figure size 640x480 with 1 Axes>"
            ],
            "image/png": "[encoded data removed]"
          },
          "metadata": {}
        }
      ]
    },
    {
      "cell_type": "code",
      "source": [
        "# Paso 4: Aplicar PCA en el conjunto de entrenamiento\n",
        "pca = PCA(n_components=7)  # Número óptimo de componentes\n",
        "X_train_pca = pca.fit_transform(X_train_scaled)\n",
        "X_test_pca = pca.transform(X_test_scaled)"
      ],
      "metadata": {
        "id": "Fkp_Um7t3OpW"
      },
      "execution_count": 8,
      "outputs": []
    },
    {
      "cell_type": "code",
      "source": [
        "# Paso 5: Entrenar el modelo con los datos transformados por PCA\n",
        "model = LogisticRegression()\n",
        "model.fit(X_train_pca, y_train)\n",
        "\n",
        "# Paso 6: Evaluar el modelo\n",
        "y_pred = model.predict(X_test_pca)\n",
        "accuracy = accuracy_score(y_test, y_pred)\n",
        "print(f'Accuracy: {accuracy}')\n",
        "\n",
        "print(classification_report(y_test, y_pred))"
      ],
      "metadata": {
        "colab": {
          "base_uri": "https://localhost:8080/"
        },
        "id": "wN4I0LI_3Q0k",
        "outputId": "8982d18c-ba29-43bf-9b7c-dd422cd1f216"
      },
      "execution_count": 9,
      "outputs": [
        {
          "output_type": "stream",
          "name": "stdout",
          "text": [
            "Accuracy: 0.9518072289156626\n",
            "              precision    recall  f1-score   support\n",
            "\n",
            "           1       0.98      0.95      0.96        57\n",
            "           2       0.89      0.96      0.93        26\n",
            "\n",
            "    accuracy                           0.95        83\n",
            "   macro avg       0.94      0.95      0.95        83\n",
            "weighted avg       0.95      0.95      0.95        83\n",
            "\n"
          ]
        }
      ]
    },
    {
      "cell_type": "markdown",
      "source": [
        "**Obserevación:**\n",
        "95% de precisión es bastante bueno. El modelo está funcionando bastante bien en el conjunto de prueba. A continuación indico algunas observaciones basadas en el informe de clasificación:\n",
        "\n",
        "- Precision y Recall altos: Para ambas clases, la precisión y el recall son bastante altos, lo que indica que el modelo está prediciendo correctamente tanto los positivos como los negativos.\n",
        "\n",
        "- F1-score alto: El puntaje F1, que es la media armónica entre precisión y recall, también es alto para ambas clases, lo que sugiere un buen equilibrio entre precisión y recall.\n",
        "\n",
        "- Accuracy: La precisión global del modelo es del 95%, lo cual es excelente.\n"
      ],
      "metadata": {
        "id": "h1ij_Q8n3eqE"
      }
    },
    {
      "cell_type": "code",
      "source": [
        "# Ruta donde se guardará el archivo en Google Drive\n",
        "file_path = '/content/drive/My Drive/logistic_regression_model_bc.pickle'\n",
        "\n",
        "# Guardar el modelo en un archivo pickle en Google Drive\n",
        "with open(file_path, 'wb') as f:\n",
        "    pickle.dump(model, f)"
      ],
      "metadata": {
        "id": "7GWXgqRK37VI"
      },
      "execution_count": 10,
      "outputs": []
    }
  ]
}